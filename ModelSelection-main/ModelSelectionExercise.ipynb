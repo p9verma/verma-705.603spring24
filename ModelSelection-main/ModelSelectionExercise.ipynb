{
 "cells": [
  {
   "cell_type": "markdown",
   "id": "4aba8e21",
   "metadata": {},
   "source": [
    "# Assignment Overview\n",
    "\n",
    "Links to the notes discussed in the video\n",
    "* [Model Selection Overview](./ModelSelect.pdf)\n",
    "* [Model Types](./ModelType.pdf)\n",
    "* [Model Decision Factors](./ModelDecisionFactors.pdf)\n",
    "* [Generalization Techiques](./Generalization.pdf)\n",
    "\n",
    "The assignment consists of two parts requiring you to select appropriate models with associated code/text.\n",
    "\n",
    "1. Determine challenge and relevant model for two distinct situations (fill out this notebook). \n",
    "1. Address the data code needed and the model for [car factors](./CarFactors/carfactors.ipynb) contained in the subdirectory, CarFactors.\n",
    "\n",
    "* ***Check the rubric in Canvas*** to make sure you understand the requirements and the assocated weights grading"
   ]
  },
  {
   "cell_type": "markdown",
   "id": "434176c7",
   "metadata": {},
   "source": [
    "# Part 1: Speed Dating Model Selection\n",
    "\n",
    "You are to explore the data set on speed dating and construct two models that provide some insight such as grouping or predictions.  The models must come from different model areas such as listed as categories in the [ModelTypes](./ModelTypes.pdf) document.  You must justify your answer considering the data and the prediction value.\n",
    "\n",
    "The data is contained in [SpeedDatingData.csv](SpeedDatingData.csv).  The values are detailed in [SpeedDatingKey.md](./SpeedDatingKey.md).  The directory also contains the original key document - SpeedDatingDataKey.docx but jupyter lab is unable to render it.  You are free to render it outside of jupyter lab if something didn't translater clearly.  The open source tool [pandoc](https://pandoc.org/installing.html) was used to perform the translation.  It is useful for almost any translation and works in all major operating systems"
   ]
  },
  {
   "cell_type": "markdown",
   "id": "e8f54ae4",
   "metadata": {},
   "source": [
    "# Model 1"
   ]
  },
  {
   "cell_type": "markdown",
   "id": "76778983",
   "metadata": {},
   "source": [
    "## Outline the challenge "
   ]
  },
  {
   "cell_type": "markdown",
   "id": "87734284",
   "metadata": {},
   "source": [
    "The challenge is to determine when two people will be a match. The feature to predict is \"match\" where the value can be a 0 or 1 (numerical representation of match or no match). A successful prediction will match the true value. In the case of speed dating, true positives are more important than false positives. We do not want to falsely predict that two people will be a match when dating. Likewise, we want to minimize false negatives where a match should occur but was missed. "
   ]
  },
  {
   "cell_type": "markdown",
   "id": "54d49287",
   "metadata": {},
   "source": [
    "### Select the features and their justification "
   ]
  },
  {
   "cell_type": "markdown",
   "id": "7212f8be",
   "metadata": {},
   "source": [
    "The features I will use for this model are gender, order, match, int_corr, samerace, age_o, age, race_o, race, pf_o_att, dec_o, attr_o, field_cd, mn_sat, imprace, from, goal, date, go_out, career_c, attr1_1 , ainc1_1, intel1_1, fun1_1, amb1_1, attr3_1 , ainc3_1, int3_1, fun3_1 amb3_1, attr5_1 , ainc5_1, int5_1, fun5_1 amb5_1. I chose these features because I think they will impact the most on whether there is a match or not. \n",
    "\n",
    "An assumption we are making is that this speed dating event is only for straight participants. If this were not true, gender may not be a good indicator, and would rather cause the data to be overfitted to the straight population since there are more straight datapoints of matches. \n",
    "\n",
    "I also chose to use order as a feature because the order of meeting the person may impact their perception and chances of a match. The pair may forget someone they met earlier on in the night and perhaps be more inclined to match with someone met later on. \n",
    "\n",
    "I decided to use int_corr as a measure of the participant and partner's shared interest and ignore the actual values for their interest/hobby features as they are redundant. This feature quantifies the correlation between the interest features. \n",
    "\n",
    "I also decided to use the samerace and imprace feature. These two features can be combined to create a \"race_probability\" feature. I decided not to use the imprelig feature. This may seem helpful at first, but since there is no \"religion\" feature data for participants, there is no data that can be used with \"imprelig\" to compare the religions of two candidates. \n",
    "\n",
    "I chose to user field_cd, mn_sat, from, goal, career_c and go_out as features as well because from my knowledge, I know these are featues that may impact the outcome of a match.\n",
    "\n",
    "Finally, I chose to use three sets of the attribute features, the rating of how the participant measures up to each attribute in his or her own opinion, what the participant looks for in a date, and what the participant thinks others perceive him or her as. This will let us know what the participant sees him or herself as and whether it matches what the potential candidate is looking for. "
   ]
  },
  {
   "cell_type": "markdown",
   "id": "d69a2a9c",
   "metadata": {},
   "source": [
    "### Note necessary feature processing such as getting rid of empty cells etc."
   ]
  },
  {
   "cell_type": "markdown",
   "id": "4a5d87a0",
   "metadata": {},
   "source": [
    "- Create the race_probability feature: first convert same_race to -1 or 1 for no and yes. Then multiple the imprace feature by this value to get the race_probability. This feature would range from -10 to 10 and can then be rescaled between -1 and 1.\n",
    "- One-hot encode catergorical data values and rescale to standardize the numerical values.\n",
    "- Fill in any missing numerical values with the average score. I am choosing to use the average because we do not want any of the attribute feature to be 1 or 10 (too high or low). If there is a value missing for these features, it should indicate an average manifestation of that attribute. "
   ]
  },
  {
   "cell_type": "markdown",
   "id": "611029ea",
   "metadata": {},
   "source": [
    "### Model Selection"
   ]
  },
  {
   "cell_type": "markdown",
   "id": "b4233f6c",
   "metadata": {},
   "source": [
    "I will use a random forest classifier here. I chose to use this because there are a number of different features and a number of data points available to train on. There may be hidden relationships between features that this model will be able to use. A neural network or SVM may also have been good choices. A neural network is alse able to learn complex correlations between features. However, I felt there are not enough datapoints to train a neural network for this case. An SVM would also make a good classifier since it works well when the data has lots if features with non-linear decision boundaries, and is high dimensional. However, I thought the given data points were sufficient enough where we do not need an SVM (the data is not very high dimensional compared to the amount of datapoints). "
   ]
  },
  {
   "cell_type": "code",
   "execution_count": 15,
   "id": "0e6236e1",
   "metadata": {},
   "outputs": [],
   "source": [
    "# Enter python code of constructing your selected model  - CODE REQUIRED! (only the model creation)\n",
    "\n",
    "# Assuming you are using Python with pandas, scikit-learn, and seaborn for visualization\n",
    "import pandas as pd\n",
    "from sklearn.ensemble import RandomForestClassifier\n",
    "from sklearn.model_selection import train_test_split\n",
    "\n",
    "df = pd.read_csv('SpeedDatingData.csv')\n",
    "\n",
    "#process df and create new features - sample processing\n",
    "df = df[['gender', 'order', 'match', 'int_corr', 'samerace', 'age_o', 'age', 'race_o', 'race', 'pf_o_att', 'dec_o', 'attr_o', 'field_cd', 'mn_sat', 'imprace', 'from', 'goal', 'date', 'go_out', 'career_c', 'attr1_1', 'sinc1_1', 'intel1_1', 'fun1_1', 'amb1_1', 'attr3_1',\n",
    "    'sinc3_1', 'fun3_1', 'amb3_1', 'attr5_1', 'sinc5_1', 'fun5_1', 'amb5_1']]\n",
    "df = pd.get_dummies(df, columns=['from'], drop_first=True)\n",
    "X = df.loc[:, df.columns != \"match\"]\n",
    "y = df['match']\n",
    "X_train, X_test, y_train, y_test = train_test_split(X, y, test_size=0.2)\n",
    "\n",
    "# Train a Random Forest Classifier\n",
    "clf = RandomForestClassifier()\n",
    "clf.fit(X_train, y_train)"
   ]
  },
  {
   "cell_type": "markdown",
   "id": "b78baba9",
   "metadata": {},
   "source": [
    "# Model 2"
   ]
  },
  {
   "cell_type": "markdown",
   "id": "aba59b38",
   "metadata": {},
   "source": [
    "## Outline the challenge"
   ]
  },
  {
   "cell_type": "markdown",
   "id": "3d09124c",
   "metadata": {},
   "source": [
    "The challenge I chose is to determine the patterns between similar demographics. I am curious how much demographics affect matching tendencies of people. The goal of this challenge is to use demographic data and find clusters of grouping where matches are more likely based on these features."
   ]
  },
  {
   "cell_type": "markdown",
   "id": "55f89f86",
   "metadata": {},
   "source": [
    "### Select the features and their justification"
   ]
  },
  {
   "cell_type": "markdown",
   "id": "a1acded0",
   "metadata": {},
   "source": [
    "The features I chose for this challenge are based on demographics: age, from, race, undergrad, mn_sat, zipcode, income, and career_c. I chose these features because they cover a range of demographics from race, location of origin, income, education, and current location of residence. Further, I decided to include mn_sat because there have been popular studies done indicating that SAT scores can be correlated to a child's family income, so there is a proven demographic correlation here. Finally, I chose to include career_c because I know certain careers tend to favor certain demograohics of people, so this feature will provide some insight for our challenge."
   ]
  },
  {
   "cell_type": "markdown",
   "id": "d2ce295d",
   "metadata": {},
   "source": [
    "### Model Selection"
   ]
  },
  {
   "cell_type": "markdown",
   "id": "3ef800d3",
   "metadata": {},
   "source": [
    "I chose to use a K-means clustering model here. This is because this model allows us to investigate different features in datapoints and specify an equation to determine their distance from each other in the feature space. This allows for clusters to form and predictions to be made on these clusters."
   ]
  },
  {
   "cell_type": "code",
   "execution_count": 19,
   "id": "fac550a9",
   "metadata": {},
   "outputs": [],
   "source": [
    "# Enter python code of constructing your selected model  - CODE REQUIRED! (only the model creation)\n",
    "from sklearn.cluster import KMeans\n",
    "from sklearn.model_selection import train_test_split\n",
    "\n",
    "df = pd.read_csv('SpeedDatingData.csv')\n",
    "\n",
    "#process df and create new features - sample processing\n",
    "df = df[['age', ' from', 'race', 'undergrad', 'mn_sat', 'zipcode', 'income', 'career_c']]\n",
    "\n",
    "X = df.loc[:, df.columns != \"match\"]\n",
    "y = df['match']\n",
    "X_train, X_test, y_train, y_test = train_test_split(X, y, test_size=0.2)\n",
    "\n",
    "clf = KMeans(n_clusters=4)\n",
    "kmeans.fit(X)"
   ]
  },
  {
   "cell_type": "code",
   "execution_count": null,
   "id": "8dd816e7-7b34-4830-9f66-28480b3a0e81",
   "metadata": {},
   "outputs": [],
   "source": []
  }
 ],
 "metadata": {
  "kernelspec": {
   "display_name": "Python 3 (ipykernel)",
   "language": "python",
   "name": "python3"
  },
  "language_info": {
   "codemirror_mode": {
    "name": "ipython",
    "version": 3
   },
   "file_extension": ".py",
   "mimetype": "text/x-python",
   "name": "python",
   "nbconvert_exporter": "python",
   "pygments_lexer": "ipython3",
   "version": "3.11.4"
  }
 },
 "nbformat": 4,
 "nbformat_minor": 5
}
