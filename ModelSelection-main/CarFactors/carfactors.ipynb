{
 "cells": [
  {
   "cell_type": "markdown",
   "id": "69056103",
   "metadata": {},
   "source": [
    "# Part 2: Car Factors \n",
    "\n",
    "You are to construct a predictive model that provides the duration till sold for a given model.  \n",
    "\n",
    "1. Populate the carsfactors.py following the hints in the comments\n",
    "1. Integrate with carfactors_service.py\n",
    "1. Test locally\n",
    "1. Build requirements.txt and Dockerfile\n",
    "1. Build a docker image\n",
    "1. Test Locally\n",
    "1. Push to docker hub\n",
    "1. Populate readme for both github and docker hub (with example docker commands)\n",
    "1. Populate this notebook with working output and a summary that contains an impression of the model and how to improve it.\n",
    "\n",
    "* ***Review the [codeSamplesforCategoricalData.ipynb](./codeSamplesforCategoricalData.ipynb) for code review of the categorical data manipulations***."
   ]
  },
  {
   "cell_type": "code",
   "execution_count": 2,
   "id": "4948115d",
   "metadata": {},
   "outputs": [],
   "source": [
    "from carsfactors import carsfactors\n",
    "cf = carsfactors()"
   ]
  },
  {
   "cell_type": "markdown",
   "id": "519d1843",
   "metadata": {},
   "source": [
    "### Test Model first - Get stats"
   ]
  },
  {
   "cell_type": "code",
   "execution_count": 3,
   "id": "62c61a2f",
   "metadata": {},
   "outputs": [
    {
     "data": {
      "text/plain": [
       "'0.0021029748868419684'"
      ]
     },
     "execution_count": 3,
     "metadata": {},
     "output_type": "execute_result"
    }
   ],
   "source": [
    "cf.model_stats()"
   ]
  },
  {
   "cell_type": "markdown",
   "id": "b671a07f",
   "metadata": {},
   "source": [
    "### Get Determination"
   ]
  },
  {
   "cell_type": "code",
   "execution_count": 4,
   "id": "11f38aed",
   "metadata": {},
   "outputs": [
    {
     "name": "stdout",
     "output_type": "stream",
     "text": [
      "<carsfactors.carsfactors object at 0x158db2b10> ['sedan', 'hatchback', 'minivan']\n"
     ]
    },
    {
     "name": "stderr",
     "output_type": "stream",
     "text": [
      "/Users/punitaverma/anaconda3/lib/python3.11/site-packages/sklearn/base.py:464: UserWarning: X does not have valid feature names, but OrdinalEncoder was fitted with feature names\n",
      "  warnings.warn(\n",
      "/Users/punitaverma/anaconda3/lib/python3.11/site-packages/sklearn/base.py:464: UserWarning: X does not have valid feature names, but OneHotEncoder was fitted with feature names\n",
      "  warnings.warn(\n",
      "/Users/punitaverma/anaconda3/lib/python3.11/site-packages/sklearn/base.py:464: UserWarning: X does not have valid feature names, but OneHotEncoder was fitted with feature names\n",
      "  warnings.warn(\n",
      "/Users/punitaverma/anaconda3/lib/python3.11/site-packages/sklearn/base.py:464: UserWarning: X does not have valid feature names, but StandardScaler was fitted with feature names\n",
      "  warnings.warn(\n",
      "/Users/punitaverma/anaconda3/lib/python3.11/site-packages/sklearn/base.py:464: UserWarning: X does not have valid feature names, but LinearRegression was fitted with feature names\n",
      "  warnings.warn(\n"
     ]
    },
    {
     "data": {
      "text/plain": [
       "'[[1.04107871e+13]\\n [1.08934287e+13]\\n [2.93971392e+12]]'"
      ]
     },
     "execution_count": 4,
     "metadata": {},
     "output_type": "execute_result"
    }
   ],
   "source": [
    "\n",
    "cf.model_infer([\"automatic\", \"mechanical\", \"automatic\"],[\"silver\", \"grey\", \"white\"],[\"sedan\", \"hatchback\", \"minivan\"])"
   ]
  },
  {
   "cell_type": "markdown",
   "id": "756c63ad",
   "metadata": {},
   "source": [
    "### Start up the service"
   ]
  },
  {
   "cell_type": "code",
   "execution_count": null,
   "id": "e9637ddc",
   "metadata": {},
   "outputs": [
    {
     "name": "stdout",
     "output_type": "stream",
     "text": [
      "starting server...\n",
      " * Serving Flask app 'carfactors_service'\n",
      " * Debug mode: off\n",
      "\u001b[31m\u001b[1mWARNING: This is a development server. Do not use it in a production deployment. Use a production WSGI server instead.\u001b[0m\n",
      " * Running on all addresses (0.0.0.0)\n",
      " * Running on http://127.0.0.1:8080\n",
      " * Running on http://192.168.10.115:8080\n",
      "\u001b[33mPress CTRL+C to quit\u001b[0m\n",
      "127.0.0.1 - - [18/Feb/2024 18:48:09] \"\u001b[33mGET /infer/?transmission=automatic&color=blue&bodytype=suv HTTP/1.1\u001b[0m\" 404 -\n",
      "REQ:  <Request 'http://127.0.0.1:8080/infer?transmission=automatic&color=blue&bodytype=suv' [GET]> ARGS:  ImmutableMultiDict([('transmission', 'automatic'), ('color', 'blue'), ('bodytype', 'suv')])\n",
      "<carsfactors.carsfactors object at 0x15b753910> suv\n",
      "/Users/punitaverma/anaconda3/lib/python3.11/site-packages/sklearn/base.py:464: UserWarning: X does not have valid feature names, but OrdinalEncoder was fitted with feature names\n",
      "  warnings.warn(\n",
      "/Users/punitaverma/anaconda3/lib/python3.11/site-packages/sklearn/base.py:464: UserWarning: X does not have valid feature names, but OneHotEncoder was fitted with feature names\n",
      "  warnings.warn(\n",
      "/Users/punitaverma/anaconda3/lib/python3.11/site-packages/sklearn/base.py:464: UserWarning: X does not have valid feature names, but OneHotEncoder was fitted with feature names\n",
      "  warnings.warn(\n",
      "/Users/punitaverma/anaconda3/lib/python3.11/site-packages/sklearn/base.py:464: UserWarning: X does not have valid feature names, but StandardScaler was fitted with feature names\n",
      "  warnings.warn(\n",
      "/Users/punitaverma/anaconda3/lib/python3.11/site-packages/sklearn/base.py:464: UserWarning: X does not have valid feature names, but LinearRegression was fitted with feature names\n",
      "  warnings.warn(\n",
      "127.0.0.1 - - [18/Feb/2024 18:48:59] \"GET /infer?transmission=automatic&color=blue&bodytype=suv HTTP/1.1\" 200 -\n",
      "REQ:  <Request 'http://127.0.0.1:8080/infer?transmission=automatic&color=blue&bodytype=suv' [GET]> ARGS:  ImmutableMultiDict([('transmission', 'automatic'), ('color', 'blue'), ('bodytype', 'suv')])\n",
      "<carsfactors.carsfactors object at 0x15b753910> suv\n",
      "/Users/punitaverma/anaconda3/lib/python3.11/site-packages/sklearn/base.py:464: UserWarning: X does not have valid feature names, but OrdinalEncoder was fitted with feature names\n",
      "  warnings.warn(\n",
      "/Users/punitaverma/anaconda3/lib/python3.11/site-packages/sklearn/base.py:464: UserWarning: X does not have valid feature names, but OneHotEncoder was fitted with feature names\n",
      "  warnings.warn(\n",
      "/Users/punitaverma/anaconda3/lib/python3.11/site-packages/sklearn/base.py:464: UserWarning: X does not have valid feature names, but OneHotEncoder was fitted with feature names\n",
      "  warnings.warn(\n",
      "/Users/punitaverma/anaconda3/lib/python3.11/site-packages/sklearn/base.py:464: UserWarning: X does not have valid feature names, but StandardScaler was fitted with feature names\n",
      "  warnings.warn(\n",
      "/Users/punitaverma/anaconda3/lib/python3.11/site-packages/sklearn/base.py:464: UserWarning: X does not have valid feature names, but LinearRegression was fitted with feature names\n",
      "  warnings.warn(\n",
      "127.0.0.1 - - [18/Feb/2024 18:49:22] \"GET /infer?transmission=automatic&color=blue&bodytype=suv HTTP/1.1\" 200 -\n"
     ]
    }
   ],
   "source": [
    "!python carfactors_service.py"
   ]
  },
  {
   "cell_type": "markdown",
   "id": "5e9bb030",
   "metadata": {},
   "source": [
    "Try out the links \n",
    "* [stats](http://127.0.0.1:8080/stats)\n",
    "* [determination](http://127.0.0.1:8080/infer?transmission=automatic&color=blue&bodytype=suv)"
   ]
  },
  {
   "cell_type": "markdown",
   "id": "9545879a",
   "metadata": {},
   "source": [
    "### You must kill the kernel to try again for the port stays locked to the current kernel"
   ]
  },
  {
   "cell_type": "markdown",
   "id": "6343405c",
   "metadata": {},
   "source": [
    "# Summary\n",
    "* Assignment and Model Results\n",
    "* Techniques to improve the results"
   ]
  },
  {
   "cell_type": "markdown",
   "id": "84426602",
   "metadata": {},
   "source": [
    "PUT YOUR ANSWERS HERE which could include additional cells with working code examples"
   ]
  },
  {
   "cell_type": "code",
   "execution_count": null,
   "id": "e5d89e15",
   "metadata": {},
   "outputs": [],
   "source": []
  }
 ],
 "metadata": {
  "kernelspec": {
   "display_name": "Python 3 (ipykernel)",
   "language": "python",
   "name": "python3"
  },
  "language_info": {
   "codemirror_mode": {
    "name": "ipython",
    "version": 3
   },
   "file_extension": ".py",
   "mimetype": "text/x-python",
   "name": "python",
   "nbconvert_exporter": "python",
   "pygments_lexer": "ipython3",
   "version": "3.11.4"
  }
 },
 "nbformat": 4,
 "nbformat_minor": 5
}
