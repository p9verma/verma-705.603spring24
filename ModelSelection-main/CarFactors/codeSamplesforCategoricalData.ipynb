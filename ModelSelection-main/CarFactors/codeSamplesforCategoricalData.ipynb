{
 "cells": [
  {
   "cell_type": "code",
   "execution_count": 67,
   "id": "476620e4",
   "metadata": {},
   "outputs": [
    {
     "name": "stdout",
     "output_type": "stream",
     "text": [
      "Index(['manufacturer_name', 'model_name', 'transmission', 'color',\n",
      "       'odometer_value', 'year_produced', 'engine_fuel', 'engine_has_gas',\n",
      "       'engine_type', 'engine_capacity', 'body_type', 'has_warranty', 'state',\n",
      "       'drivetrain', 'price_usd', 'is_exchangeable', 'location_region',\n",
      "       'number_of_photos', 'up_counter', 'feature_0', 'feature_1', 'feature_2',\n",
      "       'feature_3', 'feature_4', 'feature_5', 'feature_6', 'feature_7',\n",
      "       'feature_8', 'feature_9', 'duration_listed'],\n",
      "      dtype='object')\n",
      "0        0.0\n",
      "1        0.0\n",
      "2        6.0\n",
      "3        4.0\n",
      "4        0.0\n",
      "        ... \n",
      "38526    4.0\n",
      "38527    1.0\n",
      "38528    4.0\n",
      "38529    7.0\n",
      "38530    7.0\n",
      "Name: body_type_encoded, Length: 38531, dtype: float64\n"
     ]
    }
   ],
   "source": [
    "from numpy import asarray\n",
    "from sklearn.preprocessing import OrdinalEncoder\n",
    "import pandas as pd\n",
    "\n",
    "from sklearn.preprocessing import StandardScaler\n",
    "# data = asarray([['bronze'], ['silver'], ['gold']])\n",
    "# print (data)\n",
    "df = pd.read_csv(\"cars.csv\")\n",
    "print(df.columns)\n",
    "df_useful = df[[\"body_type\", \"transmission\", \"color\"]]\n",
    "ordinal_labels = ['universal', 'hatchback', 'cabriolet', 'coupe', 'sedan', 'liftback', 'suv', 'minivan', 'van', 'pickup', 'minibus', 'limousine']\n",
    "encoder = OrdinalEncoder(categories=[ordinal_labels])\n",
    "# print(df_useful[\"body_type\"].unique())\n",
    "encoder = OrdinalEncoder(categories=[ordinal_labels])\n",
    "df['body_type_encoded'] = encoder.fit_transform(df[['body_type']])\n",
    "print(df['body_type_encoded'])"
   ]
  },
  {
   "cell_type": "code",
   "execution_count": null,
   "id": "c2610f29-d84c-40eb-a832-c1146c2ff905",
   "metadata": {},
   "outputs": [],
   "source": []
  },
  {
   "cell_type": "code",
   "execution_count": 40,
   "id": "eb1ac093",
   "metadata": {},
   "outputs": [],
   "source": [
    "# !pip install category_encoders"
   ]
  },
  {
   "cell_type": "code",
   "execution_count": 41,
   "id": "64b75401",
   "metadata": {},
   "outputs": [
    {
     "name": "stdout",
     "output_type": "stream",
     "text": [
      "    Award\n",
      "0  Bronze\n",
      "1  Silver\n",
      "2    Gold\n"
     ]
    }
   ],
   "source": [
    "import pandas as pd\n",
    "from pandas import DataFrame\n",
    "df = pd.DataFrame({'Award':['Bronze', 'Silver', 'Gold']})\n",
    "print(df)"
   ]
  },
  {
   "cell_type": "code",
   "execution_count": 70,
   "id": "de3e50f9-5aed-4950-acc9-658c4066e4df",
   "metadata": {},
   "outputs": [
    {
     "name": "stdout",
     "output_type": "stream",
     "text": [
      "       duration_listed\n",
      "0                   16\n",
      "1                   83\n",
      "2                  151\n",
      "3                   86\n",
      "4                    7\n",
      "...                ...\n",
      "38526              301\n",
      "38527              317\n",
      "38528              369\n",
      "38529              490\n",
      "38530              632\n",
      "\n",
      "[38531 rows x 1 columns]\n"
     ]
    },
    {
     "data": {
      "text/html": [
       "<style>#sk-container-id-1 {color: black;}#sk-container-id-1 pre{padding: 0;}#sk-container-id-1 div.sk-toggleable {background-color: white;}#sk-container-id-1 label.sk-toggleable__label {cursor: pointer;display: block;width: 100%;margin-bottom: 0;padding: 0.3em;box-sizing: border-box;text-align: center;}#sk-container-id-1 label.sk-toggleable__label-arrow:before {content: \"▸\";float: left;margin-right: 0.25em;color: #696969;}#sk-container-id-1 label.sk-toggleable__label-arrow:hover:before {color: black;}#sk-container-id-1 div.sk-estimator:hover label.sk-toggleable__label-arrow:before {color: black;}#sk-container-id-1 div.sk-toggleable__content {max-height: 0;max-width: 0;overflow: hidden;text-align: left;background-color: #f0f8ff;}#sk-container-id-1 div.sk-toggleable__content pre {margin: 0.2em;color: black;border-radius: 0.25em;background-color: #f0f8ff;}#sk-container-id-1 input.sk-toggleable__control:checked~div.sk-toggleable__content {max-height: 200px;max-width: 100%;overflow: auto;}#sk-container-id-1 input.sk-toggleable__control:checked~label.sk-toggleable__label-arrow:before {content: \"▾\";}#sk-container-id-1 div.sk-estimator input.sk-toggleable__control:checked~label.sk-toggleable__label {background-color: #d4ebff;}#sk-container-id-1 div.sk-label input.sk-toggleable__control:checked~label.sk-toggleable__label {background-color: #d4ebff;}#sk-container-id-1 input.sk-hidden--visually {border: 0;clip: rect(1px 1px 1px 1px);clip: rect(1px, 1px, 1px, 1px);height: 1px;margin: -1px;overflow: hidden;padding: 0;position: absolute;width: 1px;}#sk-container-id-1 div.sk-estimator {font-family: monospace;background-color: #f0f8ff;border: 1px dotted black;border-radius: 0.25em;box-sizing: border-box;margin-bottom: 0.5em;}#sk-container-id-1 div.sk-estimator:hover {background-color: #d4ebff;}#sk-container-id-1 div.sk-parallel-item::after {content: \"\";width: 100%;border-bottom: 1px solid gray;flex-grow: 1;}#sk-container-id-1 div.sk-label:hover label.sk-toggleable__label {background-color: #d4ebff;}#sk-container-id-1 div.sk-serial::before {content: \"\";position: absolute;border-left: 1px solid gray;box-sizing: border-box;top: 0;bottom: 0;left: 50%;z-index: 0;}#sk-container-id-1 div.sk-serial {display: flex;flex-direction: column;align-items: center;background-color: white;padding-right: 0.2em;padding-left: 0.2em;position: relative;}#sk-container-id-1 div.sk-item {position: relative;z-index: 1;}#sk-container-id-1 div.sk-parallel {display: flex;align-items: stretch;justify-content: center;background-color: white;position: relative;}#sk-container-id-1 div.sk-item::before, #sk-container-id-1 div.sk-parallel-item::before {content: \"\";position: absolute;border-left: 1px solid gray;box-sizing: border-box;top: 0;bottom: 0;left: 50%;z-index: -1;}#sk-container-id-1 div.sk-parallel-item {display: flex;flex-direction: column;z-index: 1;position: relative;background-color: white;}#sk-container-id-1 div.sk-parallel-item:first-child::after {align-self: flex-end;width: 50%;}#sk-container-id-1 div.sk-parallel-item:last-child::after {align-self: flex-start;width: 50%;}#sk-container-id-1 div.sk-parallel-item:only-child::after {width: 0;}#sk-container-id-1 div.sk-dashed-wrapped {border: 1px dashed gray;margin: 0 0.4em 0.5em 0.4em;box-sizing: border-box;padding-bottom: 0.4em;background-color: white;}#sk-container-id-1 div.sk-label label {font-family: monospace;font-weight: bold;display: inline-block;line-height: 1.2em;}#sk-container-id-1 div.sk-label-container {text-align: center;}#sk-container-id-1 div.sk-container {/* jupyter's `normalize.less` sets `[hidden] { display: none; }` but bootstrap.min.css set `[hidden] { display: none !important; }` so we also need the `!important` here to be able to override the default hidden behavior on the sphinx rendered scikit-learn.org. See: https://github.com/scikit-learn/scikit-learn/issues/21755 */display: inline-block !important;position: relative;}#sk-container-id-1 div.sk-text-repr-fallback {display: none;}</style><div id=\"sk-container-id-1\" class=\"sk-top-container\"><div class=\"sk-text-repr-fallback\"><pre>LinearRegression()</pre><b>In a Jupyter environment, please rerun this cell to show the HTML representation or trust the notebook. <br />On GitHub, the HTML representation is unable to render, please try loading this page with nbviewer.org.</b></div><div class=\"sk-container\" hidden><div class=\"sk-item\"><div class=\"sk-estimator sk-toggleable\"><input class=\"sk-toggleable__control sk-hidden--visually\" id=\"sk-estimator-id-1\" type=\"checkbox\" checked><label for=\"sk-estimator-id-1\" class=\"sk-toggleable__label sk-toggleable__label-arrow\">LinearRegression</label><div class=\"sk-toggleable__content\"><pre>LinearRegression()</pre></div></div></div></div></div>"
      ],
      "text/plain": [
       "LinearRegression()"
      ]
     },
     "execution_count": 70,
     "metadata": {},
     "output_type": "execute_result"
    }
   ],
   "source": [
    "from sklearn.model_selection import train_test_split\n",
    "from sklearn.preprocessing import OneHotEncoder\n",
    "df = pd.read_csv(\"cars.csv\")\n",
    "df_useful = df[[\"body_type\", \"transmission\", \"color\", \"duration_listed\"]]\n",
    "# print(df_useful.columns)\n",
    "X = df_useful.loc[:, df_useful.columns != \"duration_listed\"]\n",
    "y = df_useful[\"duration_listed\"]\n",
    "ordinal_labels = ['universal', 'hatchback', 'cabriolet', 'coupe', 'sedan', 'liftback', 'suv', 'minivan', 'van', 'pickup', 'minibus', 'limousine']\n",
    "encoder = OrdinalEncoder(categories=[ordinal_labels])\n",
    "# print(df_useful[\"body_type\"].unique())\n",
    "encoder = OrdinalEncoder(categories=[ordinal_labels])\n",
    "df['body_type_encoded'] = encoder.fit_transform(df[['body_type']])\n",
    "# print(df['body_type_encoded'])\n",
    "encoder = OneHotEncoder(sparse_output=False)\n",
    "onehot_transmission = encoder.fit_transform(df[[\"transmission\"]])\n",
    "encoder_color = OneHotEncoder(sparse_output=False)\n",
    "onehot_color = encoder_color.fit_transform(df[[\"color\"]])\n",
    "# Convert one-hot encoded features to DataFrames\n",
    "df_onehot_color = pd.DataFrame(onehot_color, columns=encoder_color.get_feature_names_out(['color']))\n",
    "df_onehot_transmission = pd.DataFrame(onehot_transmission, columns=encoder.get_feature_names_out(['transmission']))\n",
    "\n",
    "# Concatenate the one-hot encoded features and the encoded 'body_type' column\n",
    "df_processed = pd.concat([df_onehot_color, df_onehot_transmission, pd.DataFrame(df[['body_type_encoded', 'duration_listed']])], axis=1)\n",
    "\n",
    "#df_processed = pd.DataFrame([onehot_color, onehot_transmission, df['body_type_encoded']])\n",
    "df_processed.head()\n",
    "# then dd to original data set\n",
    "\n",
    "#delete the columns that are substituted by ordinal and onehot - delete the text columns for color, transmission, and car type \n",
    "\n",
    "# Define your target variable\n",
    "\n",
    "X = df_processed.loc[:, df_processed.columns != \"duration_listed\"]\n",
    "y = df_processed[[\"duration_listed\"]]\n",
    "print(y)\n",
    "# Split the data into training and testing sets\n",
    "X_train, X_test, y_train, y_test = train_test_split(X, y, test_size=0.2, random_state=42)\n",
    "\n",
    "scaler = StandardScaler()\n",
    "X_train_scaled = scaler.fit_transform(X_train)\n",
    "X_test_scaled = scaler.transform(X_test)\n",
    "# Splitting the dataset into the Training set and Test set \n",
    "\n",
    "\n",
    "from sklearn.linear_model import LinearRegression\n",
    "model = LinearRegression()\n",
    "model.fit(X_train, y_train)"
   ]
  },
  {
   "cell_type": "code",
   "execution_count": 5,
   "id": "f1781303",
   "metadata": {},
   "outputs": [
    {
     "name": "stdout",
     "output_type": "stream",
     "text": [
      "[['red']\n",
      " ['green']\n",
      " ['blue']]\n",
      "[[0. 0. 1.]\n",
      " [0. 1. 0.]\n",
      " [1. 0. 0.]]\n"
     ]
    }
   ],
   "source": [
    "from numpy import asarray\n",
    "from sklearn.preprocessing import OneHotEncoder\n",
    "\n",
    "data = asarray([['red'],['green'], ['blue']])\n",
    "print(data)\n",
    "\n",
    "encoder = OneHotEncoder(sparse_output=False)\n",
    "onehot = encoder.fit_transform(data)\n",
    "print(onehot)"
   ]
  },
  {
   "cell_type": "code",
   "execution_count": 6,
   "id": "85d7914d",
   "metadata": {},
   "outputs": [
    {
     "name": "stdout",
     "output_type": "stream",
     "text": [
      "[['red']\n",
      " ['green']\n",
      " ['blue']]\n",
      "[[0. 1.]\n",
      " [1. 0.]\n",
      " [0. 0.]]\n"
     ]
    }
   ],
   "source": [
    "from numpy import asarray\n",
    "from sklearn.preprocessing import OneHotEncoder\n",
    "\n",
    "data = asarray([['red'],['green'], ['blue']])\n",
    "print(data)\n",
    "\n",
    "encoder = OneHotEncoder(drop='first',sparse_output=False)\n",
    "onehot = encoder.fit_transform(data)\n",
    "print(onehot)"
   ]
  },
  {
   "cell_type": "code",
   "execution_count": null,
   "id": "0f1bf714",
   "metadata": {},
   "outputs": [],
   "source": [
    "# Encoding categorical data\n",
    "from sklearn.compose import ColumnTransformer\n",
    "from sklearn.preprocessing import OneHotEncoder\n",
    "ct = ColumnTransformer(transformers=[('encoder', OneHotEncoder(), [3])], remainder='passthrough')\n",
    "X = np.array(ct.fit_transform(X))\n",
    "print(X)"
   ]
  }
 ],
 "metadata": {
  "kernelspec": {
   "display_name": "Python 3 (ipykernel)",
   "language": "python",
   "name": "python3"
  },
  "language_info": {
   "codemirror_mode": {
    "name": "ipython",
    "version": 3
   },
   "file_extension": ".py",
   "mimetype": "text/x-python",
   "name": "python",
   "nbconvert_exporter": "python",
   "pygments_lexer": "ipython3",
   "version": "3.11.4"
  }
 },
 "nbformat": 4,
 "nbformat_minor": 5
}
