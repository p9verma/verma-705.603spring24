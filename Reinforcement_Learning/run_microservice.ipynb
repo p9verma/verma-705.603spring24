{
 "cells": [
  {
   "cell_type": "code",
   "execution_count": 5,
   "id": "34d6d545-1c74-4e16-8452-03e417d6a9e0",
   "metadata": {},
   "outputs": [
    {
     "name": "stdout",
     "output_type": "stream",
     "text": [
      "Customer_ID         4\n",
      "Gender_code         0\n",
      "Type_code           1\n",
      "Age_Group       31-40\n",
      "Tenure_Group    21-25\n",
      "Name: 3, dtype: object\n",
      "{'Best action': 3}\n"
     ]
    }
   ],
   "source": [
    "import requests\n",
    "import json\n",
    "from urllib.parse import urlencode\n",
    "import pandas as pd\n",
    "\n",
    "userbase_processed = pd.read_csv('users_processed.csv')\n",
    "print(userbase_processed.iloc[3,:])\n",
    "url = 'http://localhost:8786/predict'\n",
    "response = requests.post('http://localhost:5001/predict', json=userbase_processed.iloc[3,:].to_dict())\n",
    "\n",
    "print(response.json())"
   ]
  },
  {
   "cell_type": "code",
   "execution_count": null,
   "id": "ac72b567-e30c-4c4e-8bb5-2b240a8feeab",
   "metadata": {},
   "outputs": [],
   "source": []
  }
 ],
 "metadata": {
  "kernelspec": {
   "display_name": "Python 3 (ipykernel)",
   "language": "python",
   "name": "python3"
  },
  "language_info": {
   "codemirror_mode": {
    "name": "ipython",
    "version": 3
   },
   "file_extension": ".py",
   "mimetype": "text/x-python",
   "name": "python",
   "nbconvert_exporter": "python",
   "pygments_lexer": "ipython3",
   "version": "3.11.4"
  }
 },
 "nbformat": 4,
 "nbformat_minor": 5
}
