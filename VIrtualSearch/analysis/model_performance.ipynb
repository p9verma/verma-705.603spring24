{
 "cells": [
  {
   "cell_type": "code",
   "execution_count": 1,
   "id": "1930ef00-9ba8-44ac-8397-3d44acd2a3c1",
   "metadata": {},
   "outputs": [],
   "source": [
    "import sys\n",
    "sys.path.insert(1, '/Users/punitaverma/Desktop/workspace/verma-705.603spring24/VIrtualSearch')\n",
    "import model\n",
    "from model import Object_Detection_Model\n",
    "# %reload_ext autoreload\n",
    "# %load_ext autoreload\n",
    "# %autoreload 2"
   ]
  },
  {
   "cell_type": "code",
   "execution_count": 2,
   "id": "d653cbb1-ecf3-4df7-8136-97ac804b63d7",
   "metadata": {},
   "outputs": [],
   "source": [
    "weights_path = '/Users/punitaverma/Desktop/AI Masters/705.603/workspace/verma-705.603spring24/VIrtualSearch/lpr-yolov3.weights'\n",
    "config_path = '/Users/punitaverma/Desktop/AI Masters/705.603/workspace/verma-705.603spring24/VIrtualSearch/lpr-yolov3.cfg' \n",
    "yolo_model = Object_Detection_Model(weights_path, config_path)"
   ]
  },
  {
   "cell_type": "code",
   "execution_count": 3,
   "id": "145718c7-03d0-4202-a41e-f8f5a5b5ed8a",
   "metadata": {},
   "outputs": [
    {
     "data": {
      "text/plain": [
       "<model.Object_Detection_Model at 0x16fa85750>"
      ]
     },
     "execution_count": 3,
     "metadata": {},
     "output_type": "execute_result"
    }
   ],
   "source": [
    "yolo_model"
   ]
  },
  {
   "cell_type": "code",
   "execution_count": 34,
   "id": "6c25a64e-32c7-48c0-b91d-d3e2a417c629",
   "metadata": {
    "scrolled": true
   },
   "outputs": [
    {
     "name": "stdout",
     "output_type": "stream",
     "text": [
      "Creating... video_frames/frame0.jpg\n",
      "Creating... video_frames/frame1800.jpg\n",
      "Extracted dataframe head:                              0\n",
      "0     video_frames/frame0.jpg\n",
      "1  video_frames/frame1800.jpg\n"
     ]
    }
   ],
   "source": [
    "import os \n",
    "import data_pipeline\n",
    "from data_pipeline import ETL_Pipeline\n",
    "video_path = '/Users/punitaverma/Desktop/AI Masters/705.603/workspace/verma-705.603spring24/VIrtualSearch/LicensePlateReaderSample_4K.mov'\n",
    "pipeline = ETL_Pipeline()\n",
    "data = pipeline.extract(video_path, 30)\n",
    "# yolo_model.test()"
   ]
  },
  {
   "cell_type": "code",
   "execution_count": 35,
   "id": "b93e126b-60ba-48dd-b419-2297a9a0abf3",
   "metadata": {},
   "outputs": [
    {
     "data": {
      "text/plain": [
       "0    object\n",
       "dtype: object"
      ]
     },
     "execution_count": 35,
     "metadata": {},
     "output_type": "execute_result"
    }
   ],
   "source": [
    "data.dtypes"
   ]
  },
  {
   "cell_type": "code",
   "execution_count": 36,
   "id": "661fc36e-9df1-4e08-b925-4e9d2d6807ea",
   "metadata": {},
   "outputs": [
    {
     "name": "stdout",
     "output_type": "stream",
     "text": [
      "video_frames/frame0.jpg\n",
      "video_frames/frame1800.jpg\n"
     ]
    }
   ],
   "source": [
    "data_processed = pipeline.transform(data)"
   ]
  },
  {
   "cell_type": "code",
   "execution_count": null,
   "id": "38b5a56b-d641-4331-aed1-3920dc5f6af9",
   "metadata": {
    "scrolled": true
   },
   "outputs": [],
   "source": [
    "# y_pred = yolo_model.test(data_processed[0:1], [[1,2,3,4], [4,54,2,1]])"
   ]
  },
  {
   "cell_type": "code",
   "execution_count": 38,
   "id": "f1c05cc2-31ef-4308-a8be-c75447a916b0",
   "metadata": {},
   "outputs": [],
   "source": [
    "# sum = 0\n",
    "# for i in range(len(y_pred)):\n",
    "#     iou, intersect, union = intersection_over_union(all_bboxes[0:10][i], y_pred[i])\n",
    "#     print(iou)\n",
    "#     sum = sum + iou\n",
    "# print(\"Average IOU for all bounding boxes: \", sum/i)"
   ]
  },
  {
   "cell_type": "code",
   "execution_count": 39,
   "id": "ed39a649-9376-45c2-b537-25a1d4c8083b",
   "metadata": {
    "jupyter": {
     "source_hidden": true
    }
   },
   "outputs": [
    {
     "data": {
      "text/plain": [
       "[[2404.0, 1570.0, 161.0, 65.0]]"
      ]
     },
     "execution_count": 39,
     "metadata": {},
     "output_type": "execute_result"
    }
   ],
   "source": [
    "y_pred"
   ]
  },
  {
   "cell_type": "code",
   "execution_count": 8,
   "id": "63ddafb5-9746-4d4b-9528-a694056a9c9b",
   "metadata": {},
   "outputs": [
    {
     "name": "stdout",
     "output_type": "stream",
     "text": [
      "N180 36\n",
      "N249 178\n",
      "N182 198\n"
     ]
    }
   ],
   "source": [
    "import os\n",
    "\n",
    "def get_bounding_box_from_txt(image_name, json_dir):\n",
    "    txt_file = os.path.join(json_dir, f\"{image_name}_yolo.txt\")\n",
    "    with open(txt_file, 'r') as f:\n",
    "        line = f.readline().strip()  # Read the first line\n",
    "    class_name, *bbox = line.split()  # Split the line by whitespace\n",
    "    bbox = list(map(float, bbox))  # Convert bbox coordinates to floats\n",
    "    return bbox\n",
    "\n",
    "all_bboxes = []\n",
    "yolo_dir = '/Users/punitaverma/Desktop/workspace/verma-705.603spring24/VIrtualSearch/outputs'\n",
    "# for file_name in os.listdir(yolo_dir):\n",
    "#     if file_name.endswith(\"_yolo.txt\"):\n",
    "#         image_name = os.path.splitext(file_name)[0]  # Get image name without extension\n",
    "#         bbox = get_bounding_box_from_txt(image_name, yolo_dir)\n",
    "#         all_bboxes.append(bbox)\n",
    "for index, row in df.iterrows():\n",
    "    image_name = os.path.splitext(os.path.basename(row[0]))[0]\n",
    "    try:                             \n",
    "        bbox = get_bounding_box_from_txt(image_name, yolo_dir)\n",
    "        all_bboxes.append(bbox)\n",
    "    except FileNotFoundError:\n",
    "        print(image_name, index)\n"
   ]
  },
  {
   "cell_type": "code",
   "execution_count": 7,
   "id": "a4a1f9bb-740b-404a-85c2-9f1d53073526",
   "metadata": {},
   "outputs": [
    {
     "name": "stdout",
     "output_type": "stream",
     "text": [
      "Skipping index 37\n",
      "Skipping index 181\n",
      "Skipping index 201\n"
     ]
    }
   ],
   "source": [
    "import pandas as pd\n",
    "\n",
    "images = '/Users/punitaverma/Desktop/AI Masters/705.603/workspace/verma-705.603spring24/VIrtualSearch/images'\n",
    "jpeg_images = []\n",
    "for index, file_name in enumerate(os.listdir(images)):\n",
    "    if file_name.lower().endswith(\".jpeg\"):\n",
    "        if index in {37, 181, 201}:\n",
    "            print(f\"Skipping index {index}\") # skipping three probelmatic images\n",
    "            continue\n",
    "        jpeg_images.append(os.path.join(images, file_name))\n",
    "df = pd.DataFrame({\"file_path\": jpeg_images})"
   ]
  },
  {
   "cell_type": "code",
   "execution_count": 87,
   "id": "fb35df78-be7b-400b-aaf3-da08f0ca42e0",
   "metadata": {},
   "outputs": [
    {
     "data": {
      "text/plain": [
       "'/Users/punitaverma/Desktop/AI Masters/705.603/workspace/verma-705.603spring24/VIrtualSearch/images/N123.jpeg'"
      ]
     },
     "execution_count": 87,
     "metadata": {},
     "output_type": "execute_result"
    }
   ],
   "source": [
    "df.iloc[3,0]"
   ]
  },
  {
   "cell_type": "code",
   "execution_count": 88,
   "id": "0fe4f17c-567d-4ab0-8478-c502dbd5fc1c",
   "metadata": {},
   "outputs": [
    {
     "data": {
      "text/plain": [
       "[[0.48689516129032256,\n",
       "  0.6585365853658537,\n",
       "  0.3810483870967742,\n",
       "  0.13937282229965156],\n",
       " [0.47888888888888886, 0.47, 0.8555555555555555, 0.36333333333333334],\n",
       " [0.5297872340425532, 0.592, 0.39148936170212767, 0.13333333333333333],\n",
       " [0.514, 0.486, 0.94, 0.348],\n",
       " [0.5109489051094891,\n",
       "  0.5072992700729927,\n",
       "  0.36496350364963503,\n",
       "  0.09280500521376434],\n",
       " [0.485, 0.6476744186046511, 0.402, 0.1186046511627907],\n",
       " [0.152, 0.7086666666666667, 0.128, 0.06533333333333333],\n",
       " [0.4942857142857143,\n",
       "  0.5995717344753747,\n",
       "  0.2914285714285714,\n",
       "  0.05139186295503212],\n",
       " [0.5044444444444445, 0.66, 0.28, 0.13142857142857142],\n",
       " [0.5123537061118335,\n",
       "  0.6810551558752997,\n",
       "  0.23927178153446033,\n",
       "  0.09112709832134293]]"
      ]
     },
     "execution_count": 88,
     "metadata": {},
     "output_type": "execute_result"
    }
   ],
   "source": [
    "# all_bboxes\n",
    "# df.iloc[:10]\n",
    "all_bboxes[0:10]"
   ]
  },
  {
   "cell_type": "code",
   "execution_count": 9,
   "id": "fe54b17c-7594-422c-9e69-c87baa8e5f5f",
   "metadata": {},
   "outputs": [
    {
     "name": "stdout",
     "output_type": "stream",
     "text": [
      "Model Results: \n",
      "\n",
      "-2.219428169006453\n",
      "0.19147329552632475\n",
      "-2.3395390281806523\n",
      "-0.0011669073766268807\n",
      "-1.6943499552061854\n",
      "-1.8630847093889604\n",
      "-1.0841698427183424\n",
      "-1.137240624030873\n",
      "-1.3202406549838188\n",
      "-1.1229326635314907\n",
      "-1.6111344209426495\n",
      "-1.296874983446639\n",
      "5.31233881183529\n",
      "-1.0628880360580175\n",
      "-1.0879787286273461\n",
      "-1.231931638844457\n",
      "-1.6624606524706245\n",
      "-1.1144383378274145\n",
      "-1.8906266627125772\n",
      "-1.4239958169700653\n",
      "-1.3851608122672163\n",
      "-1.0433391704629351\n",
      "-1.9406109918891465\n",
      "-1.3496625521442682\n",
      "-0.0008059330490151399\n",
      "0.1142659299163786\n",
      "-2.0673953538881413\n",
      "-1.6335345568591726\n",
      "-1.0625024507665495\n",
      "-1.7883921808310188\n",
      "-2.687975069691578\n",
      "-1.1070826712546495\n",
      "-1.0882661075599147\n",
      "-0.0010653036455946553\n",
      "-1.0848725167709594\n",
      "-1.469491373798492\n",
      "7.401489860563467\n",
      "-1.559377187308356\n",
      "-1.040992894657169\n",
      "3.9687494641586896\n",
      "-1.0273794590683634\n",
      "-1.1189761047112927\n",
      "-1.6469889334054855\n",
      "-1.056708524169712\n",
      "-1.0478841854133942\n",
      "-1.0628527898720521\n",
      "-1.0385059687260605\n",
      "-1.0432491285037884\n",
      "-1.121418151593224\n",
      "-1.1829220472355664\n",
      "Average IOU for all bounding boxes:  -0.8537464671401259\n",
      "Creating report.txt file at  /Users/punitaverma/Desktop/workspace/verma-705.603spring24/VIrtualSearch/analysis/results\n"
     ]
    }
   ],
   "source": [
    "y_pred = yolo_model.test(df[0:50], all_bboxes[0:50])"
   ]
  },
  {
   "cell_type": "code",
   "execution_count": null,
   "id": "276fdece-9c38-4e7c-8182-33e0ab5b8274",
   "metadata": {},
   "outputs": [],
   "source": [
    "y_pred"
   ]
  },
  {
   "cell_type": "code",
   "execution_count": null,
   "id": "2000422b-9634-4c22-a564-c9ce6291a438",
   "metadata": {},
   "outputs": [],
   "source": [
    "import metrics as metrics\n",
    "from metrics import Metrics\n",
    "metrics = Metrics()\n",
    "metrics.run(all_bboxes, y_pred)"
   ]
  },
  {
   "cell_type": "code",
   "execution_count": 21,
   "id": "6d928fb1-e9d2-43bc-bfc9-f6e22a7f4a90",
   "metadata": {},
   "outputs": [
    {
     "name": "stdout",
     "output_type": "stream",
     "text": [
      "Creating report.txt file at  /Users/punitaverma/Desktop/workspace/verma-705.603spring24/VIrtualSearch/analysis/results\n"
     ]
    }
   ],
   "source": [
    "metrics.generate_report(all_bboxes[0:10], y_pred)"
   ]
  },
  {
   "cell_type": "code",
   "execution_count": 11,
   "id": "88765438-b679-46fd-ac3d-6e980d3c21a7",
   "metadata": {},
   "outputs": [],
   "source": [
    "weights_path = '/Users/punitaverma/Desktop/AI Masters/705.603/workspace/verma-705.603spring24/VIrtualSearch/lpr-yolov3-tiny.weights'\n",
    "config_path = '/Users/punitaverma/Desktop/AI Masters/705.603/workspace/verma-705.603spring24/VIrtualSearch/lpr-yolov3-tiny.cfg' \n",
    "yolo_model = Object_Detection_Model(weights_path, config_path)"
   ]
  },
  {
   "cell_type": "code",
   "execution_count": 12,
   "id": "8050d8c0-c0f7-4462-9318-13571f2ae21a",
   "metadata": {},
   "outputs": [
    {
     "name": "stdout",
     "output_type": "stream",
     "text": [
      "Model Results: \n",
      "\n",
      "-1.929183180177242\n",
      "2.624077032687077\n",
      "-1.528416695614492\n",
      "3.230948316001864\n",
      "-1.4583667280178678\n",
      "-1.4641158285003717\n",
      "-1.0841698427183424\n",
      "-1.1710741310312163\n",
      "-1.3594789050718286\n",
      "-1.168424142646818\n",
      "-1.6111344209426495\n",
      "-1.4150673310877286\n",
      "1.342143339264764\n",
      "-1.0861189228161567\n",
      "-1.15684559735479\n",
      "-1.2081738665474782\n",
      "-1.1810622772781265\n",
      "-1.1418179759405507\n",
      "-4.326002436520116\n",
      "-1.3866880666261003\n",
      "-1.0975456261799874\n",
      "-1.0746247476828577\n",
      "-1.7056958642003737\n",
      "-1.821906742570252\n",
      "0.9870073624945864\n",
      "-8.654272346712638\n",
      "-2.6100052794536945\n",
      "-1.4659736590048111\n",
      "-1.0393355530083874\n",
      "-1.8727612713513657\n",
      "-2.619531917549364\n",
      "-1.1810093079081259\n",
      "-1.091994895694456\n",
      "1.8677207867335133\n",
      "-1.0825464828481561\n",
      "-1.5791524299401694\n",
      "-1.2412368129466138\n",
      "-2.133324739270446\n",
      "-1.0275298596728895\n",
      "5.476232030870898\n",
      "-1.0246859271128703\n",
      "-1.1093817252334317\n",
      "-2.3519503450079497\n",
      "-1.0885130998562853\n",
      "-1.0452493181521783\n",
      "-1.0354399691443055\n",
      "-1.0376044962828015\n",
      "-1.0656814449917897\n",
      "-1.1034735535540683\n",
      "-1.2274019329164298\n",
      "Average IOU for all bounding boxes:  -1.1333845067160382\n",
      "Creating report.txt file at  /Users/punitaverma/Desktop/workspace/verma-705.603spring24/VIrtualSearch/analysis/results\n"
     ]
    }
   ],
   "source": [
    "y_pred = yolo_model.test(df[0:50], all_bboxes[0:50])"
   ]
  },
  {
   "cell_type": "code",
   "execution_count": 30,
   "id": "271768ee-7c0d-43c7-9275-2d8dc784a35d",
   "metadata": {},
   "outputs": [
    {
     "name": "stdout",
     "output_type": "stream",
     "text": [
      "<license_plate> <[2404, 1570, 161, 65]>\n"
     ]
    },
    {
     "data": {
      "text/plain": [
       "'<license_plate> <[1089, 1971, 229, 87]>'"
      ]
     },
     "execution_count": 30,
     "metadata": {},
     "output_type": "execute_result"
    }
   ],
   "source": [
    "import cv2 as cv2\n",
    "print(yolo_model.predict(cv2.imread('video_frames/frame0.jpg')))\n",
    "yolo_model.predict(cv2.imread('video_frames/frame1800.jpg'))"
   ]
  },
  {
   "cell_type": "markdown",
   "id": "1d32761f-c55d-4368-8f60-4b119f561ff5",
   "metadata": {},
   "source": [
    "The best model above (between the two provided) is the yolov3 (not yolov3-tiny). The models were analyzed using the popular Intersection-over-union metric. I take the yolo preidcted bounding boxes, and the ground truth bounding boxes from the VOC formatted labels, and determine both the individual IOUs and the mean IOU for the entire dataset. The mean IOU returns a more wholistic picture on how model performs on the whole testing dataset.\n",
    "\n",
    "I am seeing some low numbers for IOU. This may be due to a misconfiguration in the code or a decline in image quality.\n",
    "Given more time, some future work would be to compare other popular classification models. A deep learning approach can be taken with CNN or R-CNN. The model can be trained to \"chip\" out license plates for tessearact analysis, similar to this system."
   ]
  },
  {
   "cell_type": "code",
   "execution_count": null,
   "id": "93e32726-ee0a-45a7-b0a3-649f1dcc7a17",
   "metadata": {},
   "outputs": [],
   "source": []
  }
 ],
 "metadata": {
  "kernelspec": {
   "display_name": "Python 3 (ipykernel)",
   "language": "python",
   "name": "python3"
  },
  "language_info": {
   "codemirror_mode": {
    "name": "ipython",
    "version": 3
   },
   "file_extension": ".py",
   "mimetype": "text/x-python",
   "name": "python",
   "nbconvert_exporter": "python",
   "pygments_lexer": "ipython3",
   "version": "3.11.4"
  }
 },
 "nbformat": 4,
 "nbformat_minor": 5
}
