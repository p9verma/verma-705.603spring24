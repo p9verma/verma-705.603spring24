{
 "cells": [
  {
   "cell_type": "code",
   "execution_count": 1,
   "id": "1930ef00-9ba8-44ac-8397-3d44acd2a3c1",
   "metadata": {},
   "outputs": [],
   "source": [
    "import sys\n",
    "sys.path.insert(1, '/Users/punitaverma/Desktop/AI Masters/705.603/workspace/verma-705.603spring24/VIrtualSearch')\n",
    "import model\n",
    "from model import Object_Detection_Model\n",
    "# %reload_ext autoreload\n",
    "# %load_ext autoreload\n",
    "# %autoreload 2"
   ]
  },
  {
   "cell_type": "code",
   "execution_count": 2,
   "id": "d653cbb1-ecf3-4df7-8136-97ac804b63d7",
   "metadata": {},
   "outputs": [],
   "source": [
    "weights_path = '/Users/punitaverma/Desktop/AI Masters/705.603/workspace/verma-705.603spring24/VIrtualSearch/lpr-yolov3.weights'\n",
    "config_path = '/Users/punitaverma/Desktop/AI Masters/705.603/workspace/verma-705.603spring24/VIrtualSearch/lpr-yolov3.cfg' \n",
    "yolo_model = Object_Detection_Model(weights_path, config_path)"
   ]
  },
  {
   "cell_type": "code",
   "execution_count": 15,
   "id": "145718c7-03d0-4202-a41e-f8f5a5b5ed8a",
   "metadata": {},
   "outputs": [
    {
     "data": {
      "text/plain": [
       "<model.Object_Detection_Model at 0x1b3336e00>"
      ]
     },
     "execution_count": 15,
     "metadata": {},
     "output_type": "execute_result"
    }
   ],
   "source": [
    "yolo_model"
   ]
  },
  {
   "cell_type": "code",
   "execution_count": 4,
   "id": "6c25a64e-32c7-48c0-b91d-d3e2a417c629",
   "metadata": {
    "scrolled": true
   },
   "outputs": [
    {
     "name": "stdout",
     "output_type": "stream",
     "text": [
      "Creating... video_frames/frame0.jpg\n",
      "Creating... video_frames/frame1800.jpg\n",
      "Extracted dataframe head:                              0\n",
      "0     video_frames/frame0.jpg\n",
      "1  video_frames/frame1800.jpg\n"
     ]
    }
   ],
   "source": [
    "import os \n",
    "import data_pipeline\n",
    "from data_pipeline import ETL_Pipeline\n",
    "video_path = '/Users/punitaverma/Desktop/AI Masters/705.603/workspace/verma-705.603spring24/VIrtualSearch/LicensePlateReaderSample_4K.mov'\n",
    "pipeline = ETL_Pipeline()\n",
    "data = pipeline.extract(video_path, 30)\n",
    "# yolo_model.test()"
   ]
  },
  {
   "cell_type": "code",
   "execution_count": 5,
   "id": "b93e126b-60ba-48dd-b419-2297a9a0abf3",
   "metadata": {},
   "outputs": [
    {
     "data": {
      "text/plain": [
       "0    object\n",
       "dtype: object"
      ]
     },
     "execution_count": 5,
     "metadata": {},
     "output_type": "execute_result"
    }
   ],
   "source": [
    "data.dtypes"
   ]
  },
  {
   "cell_type": "code",
   "execution_count": 6,
   "id": "661fc36e-9df1-4e08-b925-4e9d2d6807ea",
   "metadata": {},
   "outputs": [
    {
     "name": "stdout",
     "output_type": "stream",
     "text": [
      "video_frames/frame0.jpg\n",
      "video_frames/frame1800.jpg\n"
     ]
    }
   ],
   "source": [
    "data_processed = pipeline.transform(data)"
   ]
  },
  {
   "cell_type": "code",
   "execution_count": 7,
   "id": "38b5a56b-d641-4331-aed1-3920dc5f6af9",
   "metadata": {},
   "outputs": [
    {
     "name": "stdout",
     "output_type": "stream",
     "text": [
      "Creating report.txt file at  /Users/punitaverma/Desktop/AI Masters/705.603/workspace/verma-705.603spring24/VIrtualSearch/analysis/results\n"
     ]
    }
   ],
   "source": [
    "y_pred = yolo_model.test(data_processed, [1,2])"
   ]
  },
  {
   "cell_type": "code",
   "execution_count": 8,
   "id": "ed39a649-9376-45c2-b537-25a1d4c8083b",
   "metadata": {},
   "outputs": [
    {
     "data": {
      "text/plain": [
       "[[2404.0, 1570.0, 161.0, 65.0], [1089.0, 1971.0, 229.0, 87.0]]"
      ]
     },
     "execution_count": 8,
     "metadata": {},
     "output_type": "execute_result"
    }
   ],
   "source": [
    "y_pred"
   ]
  },
  {
   "cell_type": "code",
   "execution_count": 9,
   "id": "63ddafb5-9746-4d4b-9528-a694056a9c9b",
   "metadata": {},
   "outputs": [],
   "source": [
    "import os\n",
    "\n",
    "def get_bounding_box_from_txt(image_name, json_dir):\n",
    "    txt_file = os.path.join(json_dir, f\"{image_name}.txt\")\n",
    "    with open(txt_file, 'r') as f:\n",
    "        line = f.readline().strip()  # Read the first line\n",
    "    class_name, *bbox = line.split()  # Split the line by whitespace\n",
    "    bbox = list(map(float, bbox))  # Convert bbox coordinates to floats\n",
    "    return bbox\n",
    "\n",
    "all_bboxes = []\n",
    "yolo_dir = '/Users/punitaverma/Desktop/AI Masters/705.603/workspace/verma-705.603spring24/VIrtualSearch/outputs'\n",
    "for file_name in os.listdir(yolo_dir):\n",
    "    if file_name.endswith(\"_yolo.txt\"):\n",
    "        image_name = os.path.splitext(file_name)[0]  # Get image name without extension\n",
    "        bbox = get_bounding_box_from_txt(image_name, yolo_dir)\n",
    "        all_bboxes.append(bbox)"
   ]
  },
  {
   "cell_type": "code",
   "execution_count": 10,
   "id": "a4a1f9bb-740b-404a-85c2-9f1d53073526",
   "metadata": {},
   "outputs": [],
   "source": [
    "import pandas as pd\n",
    "\n",
    "images = '/Users/punitaverma/Desktop/AI Masters/705.603/workspace/verma-705.603spring24/VIrtualSearch/images'\n",
    "jpeg_images = []\n",
    "for file_name in os.listdir(images):\n",
    "    if file_name.lower().endswith(\".jpeg\"):\n",
    "        jpeg_images.append(os.path.join(images, file_name))\n",
    "df = pd.DataFrame({\"file_path\": jpeg_images})"
   ]
  },
  {
   "cell_type": "code",
   "execution_count": 11,
   "id": "fb35df78-be7b-400b-aaf3-da08f0ca42e0",
   "metadata": {},
   "outputs": [
    {
     "data": {
      "text/html": [
       "<div>\n",
       "<style scoped>\n",
       "    .dataframe tbody tr th:only-of-type {\n",
       "        vertical-align: middle;\n",
       "    }\n",
       "\n",
       "    .dataframe tbody tr th {\n",
       "        vertical-align: top;\n",
       "    }\n",
       "\n",
       "    .dataframe thead th {\n",
       "        text-align: right;\n",
       "    }\n",
       "</style>\n",
       "<table border=\"1\" class=\"dataframe\">\n",
       "  <thead>\n",
       "    <tr style=\"text-align: right;\">\n",
       "      <th></th>\n",
       "      <th>file_path</th>\n",
       "    </tr>\n",
       "  </thead>\n",
       "  <tbody>\n",
       "    <tr>\n",
       "      <th>0</th>\n",
       "      <td>/Users/punitaverma/Desktop/AI Masters/705.603/...</td>\n",
       "    </tr>\n",
       "    <tr>\n",
       "      <th>1</th>\n",
       "      <td>/Users/punitaverma/Desktop/AI Masters/705.603/...</td>\n",
       "    </tr>\n",
       "    <tr>\n",
       "      <th>2</th>\n",
       "      <td>/Users/punitaverma/Desktop/AI Masters/705.603/...</td>\n",
       "    </tr>\n",
       "    <tr>\n",
       "      <th>3</th>\n",
       "      <td>/Users/punitaverma/Desktop/AI Masters/705.603/...</td>\n",
       "    </tr>\n",
       "    <tr>\n",
       "      <th>4</th>\n",
       "      <td>/Users/punitaverma/Desktop/AI Masters/705.603/...</td>\n",
       "    </tr>\n",
       "    <tr>\n",
       "      <th>...</th>\n",
       "      <td>...</td>\n",
       "    </tr>\n",
       "    <tr>\n",
       "      <th>223</th>\n",
       "      <td>/Users/punitaverma/Desktop/AI Masters/705.603/...</td>\n",
       "    </tr>\n",
       "    <tr>\n",
       "      <th>224</th>\n",
       "      <td>/Users/punitaverma/Desktop/AI Masters/705.603/...</td>\n",
       "    </tr>\n",
       "    <tr>\n",
       "      <th>225</th>\n",
       "      <td>/Users/punitaverma/Desktop/AI Masters/705.603/...</td>\n",
       "    </tr>\n",
       "    <tr>\n",
       "      <th>226</th>\n",
       "      <td>/Users/punitaverma/Desktop/AI Masters/705.603/...</td>\n",
       "    </tr>\n",
       "    <tr>\n",
       "      <th>227</th>\n",
       "      <td>/Users/punitaverma/Desktop/AI Masters/705.603/...</td>\n",
       "    </tr>\n",
       "  </tbody>\n",
       "</table>\n",
       "<p>228 rows × 1 columns</p>\n",
       "</div>"
      ],
      "text/plain": [
       "                                             file_path\n",
       "0    /Users/punitaverma/Desktop/AI Masters/705.603/...\n",
       "1    /Users/punitaverma/Desktop/AI Masters/705.603/...\n",
       "2    /Users/punitaverma/Desktop/AI Masters/705.603/...\n",
       "3    /Users/punitaverma/Desktop/AI Masters/705.603/...\n",
       "4    /Users/punitaverma/Desktop/AI Masters/705.603/...\n",
       "..                                                 ...\n",
       "223  /Users/punitaverma/Desktop/AI Masters/705.603/...\n",
       "224  /Users/punitaverma/Desktop/AI Masters/705.603/...\n",
       "225  /Users/punitaverma/Desktop/AI Masters/705.603/...\n",
       "226  /Users/punitaverma/Desktop/AI Masters/705.603/...\n",
       "227  /Users/punitaverma/Desktop/AI Masters/705.603/...\n",
       "\n",
       "[228 rows x 1 columns]"
      ]
     },
     "execution_count": 11,
     "metadata": {},
     "output_type": "execute_result"
    }
   ],
   "source": [
    "df"
   ]
  },
  {
   "cell_type": "code",
   "execution_count": 12,
   "id": "0fe4f17c-567d-4ab0-8478-c502dbd5fc1c",
   "metadata": {},
   "outputs": [
    {
     "data": {
      "text/plain": [
       "[[0.6528645833333333,\n",
       "  0.625462962962963,\n",
       "  0.10885416666666667,\n",
       "  0.049074074074074076],\n",
       " [0.515625, 0.5958333333333333, 0.1375, 0.06018518518518518],\n",
       " [0.40087719298245617, 0.50875, 0.756140350877193, 0.3325],\n",
       " [0.463125, 0.8689903846153846, 0.17875, 0.11778846153846154],\n",
       " [0.521875, 0.32222222222222224, 0.89375, 0.28888888888888886],\n",
       " [0.49375, 0.767578125, 0.27708333333333335, 0.04453125],\n",
       " [0.5433333333333333,\n",
       "  0.5637931034482758,\n",
       "  0.4777777777777778,\n",
       "  0.15517241379310345],\n",
       " [0.5213004484304933,\n",
       "  0.8563829787234043,\n",
       "  0.257847533632287,\n",
       "  0.09574468085106383],\n",
       " [0.6283018867924528,\n",
       "  0.6105263157894737,\n",
       "  0.32075471698113206,\n",
       "  0.14736842105263157],\n",
       " [0.511, 0.5228494623655914, 0.278, 0.09408602150537634]]"
      ]
     },
     "execution_count": 12,
     "metadata": {},
     "output_type": "execute_result"
    }
   ],
   "source": [
    "# all_bboxes\n",
    "# df.iloc[:10]\n",
    "all_bboxes[0:10]"
   ]
  },
  {
   "cell_type": "code",
   "execution_count": 16,
   "id": "fe54b17c-7594-422c-9e69-c87baa8e5f5f",
   "metadata": {},
   "outputs": [
    {
     "name": "stdout",
     "output_type": "stream",
     "text": [
      "Creating report.txt file at  /Users/punitaverma/Desktop/AI Masters/705.603/workspace/verma-705.603spring24/VIrtualSearch/analysis/results\n"
     ]
    }
   ],
   "source": [
    "y_pred = yolo_model.test(df[:10], all_bboxes[0:10])"
   ]
  },
  {
   "cell_type": "code",
   "execution_count": 19,
   "id": "dea25bc0-86a9-4192-8583-231c31ff0f4f",
   "metadata": {},
   "outputs": [],
   "source": [
    "import numpy as np\n",
    "\n",
    "def calculate_iou(bbox_true, bbox_pred):\n",
    "    \"\"\"\n",
    "    Calculate Intersection over Union (IoU) for two bounding boxes.\n",
    "    \"\"\"\n",
    "    # Extract coordinates of the bounding boxes\n",
    "    x1_true, y1_true, w_true, h_true = bbox_true\n",
    "    x1_pred, y1_pred, w_pred, h_pred = bbox_pred\n",
    "    \n",
    "    # Calculate coordinates of the intersection rectangle\n",
    "    x1_intersection = max(x1_true, x1_pred)\n",
    "    y1_intersection = max(y1_true, y1_pred)\n",
    "    x2_intersection = min(x1_true + w_true, x1_pred + w_pred)\n",
    "    y2_intersection = min(y1_true + h_true, y1_pred + h_pred)\n",
    "    \n",
    "    # Calculate area of intersection rectangle\n",
    "    intersection_area = max(0, x2_intersection - x1_intersection) * max(0, y2_intersection - y1_intersection)\n",
    "    \n",
    "    # Calculate area of union of both bounding boxes\n",
    "    area_true = w_true * h_true\n",
    "    area_pred = w_pred * h_pred\n",
    "    union_area = area_true + area_pred - intersection_area\n",
    "    \n",
    "    # Calculate IoU\n",
    "    iou = intersection_area / union_area\n",
    "    return iou\n",
    "\n",
    "def calculate_precision_recall(y_true, y_pred):\n",
    "    \"\"\"\n",
    "    Calculate precision and recall based on true and predicted bounding boxes.\n",
    "    \"\"\"\n",
    "    true_positives = 0\n",
    "    false_positives = 0\n",
    "    false_negatives = 0\n",
    "    \n",
    "    for bbox_true in y_true:\n",
    "        # Find the predicted bounding box with the highest IoU\n",
    "        max_iou = 0\n",
    "        for bbox_pred in y_pred:\n",
    "            iou = calculate_iou(bbox_true['bbox'], bbox_pred['bbox'])\n",
    "            if iou > max_iou:\n",
    "                max_iou = iou\n",
    "        \n",
    "        # If IoU exceeds a certain threshold, consider it a true positive\n",
    "        if max_iou >= threshold:\n",
    "            true_positives += 1\n",
    "        else:\n",
    "            false_negatives += 1\n",
    "    \n",
    "    # Calculate precision and recall\n",
    "    precision = true_positives / (true_positives + false_positives)\n",
    "    recall = true_positives / (true_positives + false_negatives)\n",
    "    \n",
    "    return precision, recall\n",
    "\n",
    "def calculate_map(y_true, y_pred):\n",
    "    \"\"\"\n",
    "    Calculate mean Average Precision (mAP) for all classes.\n",
    "    \"\"\"\n",
    "    precisions = []\n",
    "    recalls = []\n",
    "    \n",
    "    # Iterate over each class\n",
    "    for class_label in range(1):\n",
    "        # Extract true and predicted bounding boxes for the current class\n",
    "        y_true_class = [bbox for bbox in y_true if bbox['label'] == class_label]\n",
    "        y_pred_class = [bbox for bbox in y_pred if bbox['label'] == class_label]\n",
    "        \n",
    "        # Calculate precision and recall for the current class\n",
    "        precision, recall = calculate_precision_recall(y_true_class, y_pred_class)\n",
    "        precisions.append(precision)\n",
    "        recalls.append(recall)\n",
    "    \n",
    "    # Calculate Average Precision (AP) for each class\n",
    "    ap_values = []\n",
    "    for precision, recall in zip(precisions, recalls):\n",
    "        # Interpolate precision to 11 points\n",
    "        interpolated_precisions = []\n",
    "        for recall_threshold in np.linspace(0, 1, 11):\n",
    "            max_precision = max([p for p, r in zip(precision, recall) if r >= recall_threshold])\n",
    "            interpolated_precisions.append(max_precision)\n",
    "        \n",
    "        # Calculate area under precision-recall curve\n",
    "        ap = np.mean(interpolated_precisions)\n",
    "        ap_values.append(ap)\n",
    "    \n",
    "    # Calculate mean Average Precision (mAP)\n",
    "    mAP = np.mean(ap_values)\n",
    "    \n",
    "    return mAP\n",
    "\n",
    "# Example usage:\n",
    "# y_true = [{'label': label, 'bbox': [x, y, w, h]}, ...] # True bounding boxes\n",
    "# y_pred = [{'label': label, 'bbox': [x, y, w, h]}, ...] # Predicted bounding boxes\n",
    "# mAP = calculate_map(y_true, y_pred)\n"
   ]
  },
  {
   "cell_type": "code",
   "execution_count": 20,
   "id": "276fdece-9c38-4e7c-8182-33e0ab5b8274",
   "metadata": {},
   "outputs": [
    {
     "data": {
      "text/plain": [
       "[[135.0, 162.0, 216.0, 55.0],\n",
       " [83.0, 163.0, 275.0, 290.0],\n",
       " [138.0, 187.0, 215.0, 68.0],\n",
       " [2.0, 73.0, 244.0, 114.0],\n",
       " [285.0, 423.0, 394.0, 125.0],\n",
       " [130.0, 245.0, 222.0, 65.0],\n",
       " [0, 0, 0, 0],\n",
       " [115.0, 263.0, 113.0, 32.0],\n",
       " [326.0, 196.0, 261.0, 59.0],\n",
       " [291.0, 264.0, 204.0, 41.0]]"
      ]
     },
     "execution_count": 20,
     "metadata": {},
     "output_type": "execute_result"
    }
   ],
   "source": [
    "y_pred"
   ]
  },
  {
   "cell_type": "code",
   "execution_count": 26,
   "id": "994ed772-e22f-4fd6-b277-99f232d0707b",
   "metadata": {},
   "outputs": [
    {
     "ename": "TypeError",
     "evalue": "int() argument must be a string, a bytes-like object or a real number, not 'list'",
     "output_type": "error",
     "traceback": [
      "\u001b[0;31m---------------------------------------------------------------------------\u001b[0m",
      "\u001b[0;31mTypeError\u001b[0m                                 Traceback (most recent call last)",
      "Cell \u001b[0;32mIn[26], line 1\u001b[0m\n\u001b[0;32m----> 1\u001b[0m calculate_map([\u001b[38;5;28mint\u001b[39m(x) \u001b[38;5;28;01mfor\u001b[39;00m x \u001b[38;5;129;01min\u001b[39;00m all_bboxes[\u001b[38;5;241m0\u001b[39m:\u001b[38;5;241m10\u001b[39m]], [\u001b[38;5;28mint\u001b[39m(x) \u001b[38;5;28;01mfor\u001b[39;00m x \u001b[38;5;129;01min\u001b[39;00m y_pred])\n",
      "Cell \u001b[0;32mIn[26], line 1\u001b[0m, in \u001b[0;36m<listcomp>\u001b[0;34m(.0)\u001b[0m\n\u001b[0;32m----> 1\u001b[0m calculate_map([\u001b[38;5;28mint\u001b[39m(x) \u001b[38;5;28;01mfor\u001b[39;00m x \u001b[38;5;129;01min\u001b[39;00m all_bboxes[\u001b[38;5;241m0\u001b[39m:\u001b[38;5;241m10\u001b[39m]], [\u001b[38;5;28mint\u001b[39m(x) \u001b[38;5;28;01mfor\u001b[39;00m x \u001b[38;5;129;01min\u001b[39;00m y_pred])\n",
      "\u001b[0;31mTypeError\u001b[0m: int() argument must be a string, a bytes-like object or a real number, not 'list'"
     ]
    }
   ],
   "source": [
    "calculate_map([int(x) for x in all_bboxes[0:10]], [int(x) for x in y_pred])"
   ]
  },
  {
   "cell_type": "code",
   "execution_count": null,
   "id": "17023189-f500-45d3-8678-e6a7babb9108",
   "metadata": {},
   "outputs": [],
   "source": []
  }
 ],
 "metadata": {
  "kernelspec": {
   "display_name": "Python (en605645)",
   "language": "python",
   "name": "en605645"
  },
  "language_info": {
   "codemirror_mode": {
    "name": "ipython",
    "version": 3
   },
   "file_extension": ".py",
   "mimetype": "text/x-python",
   "name": "python",
   "nbconvert_exporter": "python",
   "pygments_lexer": "ipython3",
   "version": "3.10.8"
  }
 },
 "nbformat": 4,
 "nbformat_minor": 5
}
