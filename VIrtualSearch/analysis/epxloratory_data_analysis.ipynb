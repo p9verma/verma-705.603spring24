{
 "cells": [
  {
   "cell_type": "markdown",
   "id": "9149cea5-b50a-4fc7-b0bd-1e7b56927ffa",
   "metadata": {},
   "source": [
    "# Exploratory Data Analysis \n",
    "## Deliverable B\n",
    "### 1. What are the typical sizes/dimensions of these bounding boxes?"
   ]
  },
  {
   "cell_type": "code",
   "execution_count": 8,
   "id": "053303dc-f91a-47e8-82dd-95d5d476074c",
   "metadata": {},
   "outputs": [
    {
     "name": "stdout",
     "output_type": "stream",
     "text": [
      "Typical (Average) width: 206.79111111111112\n",
      "Typical (Average)height: 59.964444444444446\n"
     ]
    }
   ],
   "source": [
    "import os\n",
    "import xml.etree.ElementTree as ET\n",
    "\n",
    "widths = []\n",
    "heights = []\n",
    "\n",
    "for filename in os.listdir('images'):\n",
    "    if filename.endswith('.xml') and not filename.startswith('~'):\n",
    "        tree = ET.parse(os.path.join('images', filename))\n",
    "        root = tree.getroot()\n",
    "        for obj in root.findall('object'):\n",
    "            bbox = obj.find('bndbox')\n",
    "            xmin = int(bbox.find('xmin').text)\n",
    "            ymin = int(bbox.find('ymin').text)\n",
    "            xmax = int(bbox.find('xmax').text)\n",
    "            ymax = int(bbox.find('ymax').text)\n",
    "            widths.append(xmax - xmin)\n",
    "            heights.append(ymax - ymin)\n",
    "            \n",
    "print(\"Typical (Average) width: \", sum(widths)/len(widths))\n",
    "print(\"Typical (Average)height: \", sum(heights)/len(heights))"
   ]
  },
  {
   "cell_type": "markdown",
   "id": "b94e70d7-e905-4903-98c4-8e4ef5466edb",
   "metadata": {},
   "source": [
    "### 2. What are the typical locations of these boxes relative to the image space?"
   ]
  },
  {
   "cell_type": "code",
   "execution_count": 24,
   "id": "c7a73ad4-d1a6-4dfc-b1b7-eb6bfb5df474",
   "metadata": {},
   "outputs": [
    {
     "name": "stdout",
     "output_type": "stream",
     "text": [
      "Bounding boxes by cartesian plane quadrants (relative to iamge space):\n",
      "Quadrant 1:  24 \n",
      "Quadrant 2:  21 \n",
      "Quadrant 3:  90 \n",
      "Quadrant 4:  90\n"
     ]
    }
   ],
   "source": [
    "q1 = 0\n",
    "q2 = 0\n",
    "q3 = 0\n",
    "q4 = 0\n",
    "\n",
    "for filename in os.listdir('images'):\n",
    "    if filename.endswith('.xml') and not filename.startswith('~'):\n",
    "        tree = ET.parse(os.path.join('images', filename))\n",
    "        root = tree.getroot()\n",
    "        size = root.find('size')\n",
    "        width = int(size.find('width').text)\n",
    "        height = int(size.find('height').text)\n",
    "        for obj in root.findall('object'):\n",
    "            bbox = obj.find('bndbox')\n",
    "            xmin = int(bbox.find('xmin').text)\n",
    "            ymin = int(bbox.find('ymin').text)\n",
    "            xmax = int(bbox.find('xmax').text)\n",
    "            ymax = int(bbox.find('ymax').text)\n",
    "            mid_x = (xmin + xmax)/2/width # normalize relative to image space\n",
    "            mid_y = (ymin + ymax)/2/height\n",
    "            \n",
    "            if mid_x >= 0.5 and mid_y < 0.5:\n",
    "                q1 += 1\n",
    "            elif mid_x < 0.5 and mid_y < 0.5:\n",
    "                q2 += 1\n",
    "            elif mid_x < 0.5 and mid_y >= 0.5:\n",
    "                q3 += 1\n",
    "            else:\n",
    "                q4 += 1\n",
    "print(\"Bounding boxes by cartesian plane quadrants (relative to iamge space):\\nQuadrant 1: \", q1, \"\\nQuadrant 2: \", q2, \"\\nQuadrant 3: \", q3, \"\\nQuadrant 4: \", q4)"
   ]
  },
  {
   "cell_type": "code",
   "execution_count": null,
   "id": "de814acc-8524-49db-baf4-fc9e049f72be",
   "metadata": {},
   "outputs": [],
   "source": []
  }
 ],
 "metadata": {
  "kernelspec": {
   "display_name": "Python 3 (ipykernel)",
   "language": "python",
   "name": "python3"
  },
  "language_info": {
   "codemirror_mode": {
    "name": "ipython",
    "version": 3
   },
   "file_extension": ".py",
   "mimetype": "text/x-python",
   "name": "python",
   "nbconvert_exporter": "python",
   "pygments_lexer": "ipython3",
   "version": "3.11.4"
  }
 },
 "nbformat": 4,
 "nbformat_minor": 5
}
