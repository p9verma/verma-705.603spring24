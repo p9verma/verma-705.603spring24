{
 "cells": [
  {
   "cell_type": "code",
   "execution_count": 3,
   "id": "1ca635d8-3ecc-4bab-a242-af45a4f05d95",
   "metadata": {},
   "outputs": [],
   "source": [
    "# pip install nltk"
   ]
  },
  {
   "cell_type": "code",
   "execution_count": 1,
   "id": "a85bf036-06cb-4435-acc9-4b28e537c284",
   "metadata": {},
   "outputs": [],
   "source": [
    "import sys \n",
    "sys.path.insert(1, \"Desktop/workspace/verma-705.603spring24/Sentiment_Analysis\")\n",
    "import nltk\n",
    "import data_pipeline\n",
    "from data_pipeline import ETL_Pipeline"
   ]
  },
  {
   "cell_type": "code",
   "execution_count": 2,
   "id": "e76af258-00fc-4a9e-9bd9-daf3c23ed87a",
   "metadata": {},
   "outputs": [],
   "source": [
    "pipeline = ETL_Pipeline()"
   ]
  },
  {
   "cell_type": "code",
   "execution_count": 3,
   "id": "2717fa22-303e-4de3-9960-524f5335585e",
   "metadata": {},
   "outputs": [
    {
     "name": "stderr",
     "output_type": "stream",
     "text": [
      "/Users/punitaverma/Desktop/workspace/verma-705.603spring24/Sentiment_Analysis/analysis/data_pipeline.py:9: DtypeWarning: Columns (18,25) have mixed types. Specify dtype option on import or set low_memory=False.\n",
      "  df = pd.read_csv(filename)\n"
     ]
    }
   ],
   "source": [
    "df = pipeline.extract(\"amazon_movie_reviews.csv\")"
   ]
  },
  {
   "cell_type": "code",
   "execution_count": 4,
   "id": "709fecfc-c9e9-4050-afe9-8c9dbe2c000e",
   "metadata": {},
   "outputs": [
    {
     "data": {
      "text/html": [
       "<div>\n",
       "<style scoped>\n",
       "    .dataframe tbody tr th:only-of-type {\n",
       "        vertical-align: middle;\n",
       "    }\n",
       "\n",
       "    .dataframe tbody tr th {\n",
       "        vertical-align: top;\n",
       "    }\n",
       "\n",
       "    .dataframe thead th {\n",
       "        text-align: right;\n",
       "    }\n",
       "</style>\n",
       "<table border=\"1\" class=\"dataframe\">\n",
       "  <thead>\n",
       "    <tr style=\"text-align: right;\">\n",
       "      <th></th>\n",
       "      <th>Unnamed: 0</th>\n",
       "      <th>rating</th>\n",
       "      <th>review_title</th>\n",
       "      <th>text</th>\n",
       "      <th>images_x</th>\n",
       "      <th>asin</th>\n",
       "      <th>parent_asin</th>\n",
       "      <th>user_id</th>\n",
       "      <th>timestamp</th>\n",
       "      <th>helpful_vote</th>\n",
       "      <th>...</th>\n",
       "      <th>features</th>\n",
       "      <th>description</th>\n",
       "      <th>price</th>\n",
       "      <th>images_y</th>\n",
       "      <th>videos</th>\n",
       "      <th>store</th>\n",
       "      <th>categories</th>\n",
       "      <th>details</th>\n",
       "      <th>bought_together</th>\n",
       "      <th>author</th>\n",
       "    </tr>\n",
       "  </thead>\n",
       "  <tbody>\n",
       "    <tr>\n",
       "      <th>0</th>\n",
       "      <td>0</td>\n",
       "      <td>5.0</td>\n",
       "      <td>Five Stars</td>\n",
       "      <td>Amazon, please buy the show! I'm hooked!</td>\n",
       "      <td>[]</td>\n",
       "      <td>B013488XFS</td>\n",
       "      <td>B013488XFS</td>\n",
       "      <td>AGGZ357AO26RQZVRLGU4D4N52DZQ</td>\n",
       "      <td>1440385637000</td>\n",
       "      <td>0</td>\n",
       "      <td>...</td>\n",
       "      <td>['IMDb 8.1', '2017', '10 episodes', 'X-Ray', '...</td>\n",
       "      <td>['A\\xa0con man (Giovanni Ribisi) on the run fr...</td>\n",
       "      <td>NaN</td>\n",
       "      <td>[{'360w': 'https://images-na.ssl-images-amazon...</td>\n",
       "      <td>[]</td>\n",
       "      <td>NaN</td>\n",
       "      <td>['Suspense', 'Drama']</td>\n",
       "      <td>{'Content advisory': ['Nudity', 'violence', 's...</td>\n",
       "      <td>NaN</td>\n",
       "      <td>NaN</td>\n",
       "    </tr>\n",
       "    <tr>\n",
       "      <th>1</th>\n",
       "      <td>1</td>\n",
       "      <td>5.0</td>\n",
       "      <td>Five Stars</td>\n",
       "      <td>My Kiddos LOVE this show!!</td>\n",
       "      <td>[]</td>\n",
       "      <td>B00CB6VTDS</td>\n",
       "      <td>B00CB6VTDS</td>\n",
       "      <td>AGKASBHYZPGTEPO6LWZPVJWB2BVA</td>\n",
       "      <td>1461100610000</td>\n",
       "      <td>0</td>\n",
       "      <td>...</td>\n",
       "      <td>['2014', '13 episodes', 'X-Ray', 'ALL']</td>\n",
       "      <td>['Follow the adventures of Arty and his sideki...</td>\n",
       "      <td>NaN</td>\n",
       "      <td>[{'360w': 'https://images-na.ssl-images-amazon...</td>\n",
       "      <td>[]</td>\n",
       "      <td>NaN</td>\n",
       "      <td>['Kids']</td>\n",
       "      <td>{'Audio languages': ['English Dialogue Boost: ...</td>\n",
       "      <td>NaN</td>\n",
       "      <td>NaN</td>\n",
       "    </tr>\n",
       "    <tr>\n",
       "      <th>2</th>\n",
       "      <td>2</td>\n",
       "      <td>3.0</td>\n",
       "      <td>Some decent moments...but...</td>\n",
       "      <td>Annabella Sciorra did her character justice wi...</td>\n",
       "      <td>[]</td>\n",
       "      <td>B096Z8Z3R6</td>\n",
       "      <td>B096Z8Z3R6</td>\n",
       "      <td>AG2L7H23R5LLKDKLBEF2Q3L2MVDA</td>\n",
       "      <td>1646271834582</td>\n",
       "      <td>0</td>\n",
       "      <td>...</td>\n",
       "      <td>NaN</td>\n",
       "      <td>NaN</td>\n",
       "      <td>NaN</td>\n",
       "      <td>[{'360w': 'https://images-na.ssl-images-amazon...</td>\n",
       "      <td>[]</td>\n",
       "      <td>NaN</td>\n",
       "      <td>NaN</td>\n",
       "      <td>{'Content advisory': ['Violence', 'substance u...</td>\n",
       "      <td>NaN</td>\n",
       "      <td>NaN</td>\n",
       "    </tr>\n",
       "    <tr>\n",
       "      <th>3</th>\n",
       "      <td>3</td>\n",
       "      <td>4.0</td>\n",
       "      <td>Decent Depiction of Lower-Functioning Autism, ...</td>\n",
       "      <td>...there should be more of a range of characte...</td>\n",
       "      <td>[]</td>\n",
       "      <td>B09M14D9FZ</td>\n",
       "      <td>B09M14D9FZ</td>\n",
       "      <td>AG2L7H23R5LLKDKLBEF2Q3L2MVDA</td>\n",
       "      <td>1645937761864</td>\n",
       "      <td>1</td>\n",
       "      <td>...</td>\n",
       "      <td>NaN</td>\n",
       "      <td>NaN</td>\n",
       "      <td>NaN</td>\n",
       "      <td>[{'360w': 'https://images-na.ssl-images-amazon...</td>\n",
       "      <td>[]</td>\n",
       "      <td>NaN</td>\n",
       "      <td>NaN</td>\n",
       "      <td>{'Content advisory': ['Violence', 'alcohol use...</td>\n",
       "      <td>NaN</td>\n",
       "      <td>NaN</td>\n",
       "    </tr>\n",
       "    <tr>\n",
       "      <th>4</th>\n",
       "      <td>4</td>\n",
       "      <td>5.0</td>\n",
       "      <td>What Love Is...</td>\n",
       "      <td>...isn't always how you expect it to be, but w...</td>\n",
       "      <td>[]</td>\n",
       "      <td>B001H1SVZC</td>\n",
       "      <td>B001H1SVZC</td>\n",
       "      <td>AG2L7H23R5LLKDKLBEF2Q3L2MVDA</td>\n",
       "      <td>1590639227074</td>\n",
       "      <td>0</td>\n",
       "      <td>...</td>\n",
       "      <td>NaN</td>\n",
       "      <td>NaN</td>\n",
       "      <td>NaN</td>\n",
       "      <td>[{'360w': 'https://images-na.ssl-images-amazon...</td>\n",
       "      <td>[]</td>\n",
       "      <td>NaN</td>\n",
       "      <td>NaN</td>\n",
       "      <td>{'Subtitles': ['None available'], 'Directors':...</td>\n",
       "      <td>NaN</td>\n",
       "      <td>NaN</td>\n",
       "    </tr>\n",
       "  </tbody>\n",
       "</table>\n",
       "<p>5 rows × 26 columns</p>\n",
       "</div>"
      ],
      "text/plain": [
       "   Unnamed: 0  rating                                       review_title  \\\n",
       "0           0     5.0                                         Five Stars   \n",
       "1           1     5.0                                         Five Stars   \n",
       "2           2     3.0                       Some decent moments...but...   \n",
       "3           3     4.0  Decent Depiction of Lower-Functioning Autism, ...   \n",
       "4           4     5.0                                    What Love Is...   \n",
       "\n",
       "                                                text images_x        asin  \\\n",
       "0           Amazon, please buy the show! I'm hooked!       []  B013488XFS   \n",
       "1                         My Kiddos LOVE this show!!       []  B00CB6VTDS   \n",
       "2  Annabella Sciorra did her character justice wi...       []  B096Z8Z3R6   \n",
       "3  ...there should be more of a range of characte...       []  B09M14D9FZ   \n",
       "4  ...isn't always how you expect it to be, but w...       []  B001H1SVZC   \n",
       "\n",
       "  parent_asin                       user_id      timestamp  helpful_vote  ...  \\\n",
       "0  B013488XFS  AGGZ357AO26RQZVRLGU4D4N52DZQ  1440385637000             0  ...   \n",
       "1  B00CB6VTDS  AGKASBHYZPGTEPO6LWZPVJWB2BVA  1461100610000             0  ...   \n",
       "2  B096Z8Z3R6  AG2L7H23R5LLKDKLBEF2Q3L2MVDA  1646271834582             0  ...   \n",
       "3  B09M14D9FZ  AG2L7H23R5LLKDKLBEF2Q3L2MVDA  1645937761864             1  ...   \n",
       "4  B001H1SVZC  AG2L7H23R5LLKDKLBEF2Q3L2MVDA  1590639227074             0  ...   \n",
       "\n",
       "                                            features  \\\n",
       "0  ['IMDb 8.1', '2017', '10 episodes', 'X-Ray', '...   \n",
       "1            ['2014', '13 episodes', 'X-Ray', 'ALL']   \n",
       "2                                                NaN   \n",
       "3                                                NaN   \n",
       "4                                                NaN   \n",
       "\n",
       "                                         description price  \\\n",
       "0  ['A\\xa0con man (Giovanni Ribisi) on the run fr...   NaN   \n",
       "1  ['Follow the adventures of Arty and his sideki...   NaN   \n",
       "2                                                NaN   NaN   \n",
       "3                                                NaN   NaN   \n",
       "4                                                NaN   NaN   \n",
       "\n",
       "                                            images_y  videos  store  \\\n",
       "0  [{'360w': 'https://images-na.ssl-images-amazon...      []    NaN   \n",
       "1  [{'360w': 'https://images-na.ssl-images-amazon...      []    NaN   \n",
       "2  [{'360w': 'https://images-na.ssl-images-amazon...      []    NaN   \n",
       "3  [{'360w': 'https://images-na.ssl-images-amazon...      []    NaN   \n",
       "4  [{'360w': 'https://images-na.ssl-images-amazon...      []    NaN   \n",
       "\n",
       "              categories                                            details  \\\n",
       "0  ['Suspense', 'Drama']  {'Content advisory': ['Nudity', 'violence', 's...   \n",
       "1               ['Kids']  {'Audio languages': ['English Dialogue Boost: ...   \n",
       "2                    NaN  {'Content advisory': ['Violence', 'substance u...   \n",
       "3                    NaN  {'Content advisory': ['Violence', 'alcohol use...   \n",
       "4                    NaN  {'Subtitles': ['None available'], 'Directors':...   \n",
       "\n",
       "  bought_together author  \n",
       "0             NaN    NaN  \n",
       "1             NaN    NaN  \n",
       "2             NaN    NaN  \n",
       "3             NaN    NaN  \n",
       "4             NaN    NaN  \n",
       "\n",
       "[5 rows x 26 columns]"
      ]
     },
     "execution_count": 4,
     "metadata": {},
     "output_type": "execute_result"
    }
   ],
   "source": [
    "df.head()"
   ]
  },
  {
   "cell_type": "code",
   "execution_count": 5,
   "id": "2122f31a-9751-410b-bb72-87b71b682cd0",
   "metadata": {},
   "outputs": [],
   "source": [
    "df_transform = pipeline.transform(df)"
   ]
  },
  {
   "cell_type": "code",
   "execution_count": 6,
   "id": "4a903dc2-99eb-43fe-88b7-dc580d51fe39",
   "metadata": {},
   "outputs": [
    {
     "data": {
      "text/plain": [
       "999851"
      ]
     },
     "execution_count": 6,
     "metadata": {},
     "output_type": "execute_result"
    }
   ],
   "source": [
    "len(df_transform)"
   ]
  },
  {
   "cell_type": "code",
   "execution_count": 7,
   "id": "dd5be050-c397-4045-bab4-bd2e4a7fc13e",
   "metadata": {},
   "outputs": [
    {
     "data": {
      "text/html": [
       "<div>\n",
       "<style scoped>\n",
       "    .dataframe tbody tr th:only-of-type {\n",
       "        vertical-align: middle;\n",
       "    }\n",
       "\n",
       "    .dataframe tbody tr th {\n",
       "        vertical-align: top;\n",
       "    }\n",
       "\n",
       "    .dataframe thead th {\n",
       "        text-align: right;\n",
       "    }\n",
       "</style>\n",
       "<table border=\"1\" class=\"dataframe\">\n",
       "  <thead>\n",
       "    <tr style=\"text-align: right;\">\n",
       "      <th></th>\n",
       "      <th>rating</th>\n",
       "      <th>review_title</th>\n",
       "      <th>text</th>\n",
       "      <th>helpful_vote</th>\n",
       "      <th>average_rating</th>\n",
       "    </tr>\n",
       "  </thead>\n",
       "  <tbody>\n",
       "    <tr>\n",
       "      <th>0</th>\n",
       "      <td>5.0</td>\n",
       "      <td>Five Stars</td>\n",
       "      <td>Amazon, please buy the show! I'm hooked!</td>\n",
       "      <td>0</td>\n",
       "      <td>4.6</td>\n",
       "    </tr>\n",
       "    <tr>\n",
       "      <th>1</th>\n",
       "      <td>5.0</td>\n",
       "      <td>Five Stars</td>\n",
       "      <td>My Kiddos LOVE this show!!</td>\n",
       "      <td>0</td>\n",
       "      <td>4.8</td>\n",
       "    </tr>\n",
       "    <tr>\n",
       "      <th>2</th>\n",
       "      <td>3.0</td>\n",
       "      <td>Some decent moments...but...</td>\n",
       "      <td>Annabella Sciorra did her character justice wi...</td>\n",
       "      <td>0</td>\n",
       "      <td>3.9</td>\n",
       "    </tr>\n",
       "    <tr>\n",
       "      <th>3</th>\n",
       "      <td>4.0</td>\n",
       "      <td>Decent Depiction of Lower-Functioning Autism, ...</td>\n",
       "      <td>...there should be more of a range of characte...</td>\n",
       "      <td>1</td>\n",
       "      <td>4.8</td>\n",
       "    </tr>\n",
       "    <tr>\n",
       "      <th>4</th>\n",
       "      <td>5.0</td>\n",
       "      <td>What Love Is...</td>\n",
       "      <td>...isn't always how you expect it to be, but w...</td>\n",
       "      <td>0</td>\n",
       "      <td>4.5</td>\n",
       "    </tr>\n",
       "    <tr>\n",
       "      <th>...</th>\n",
       "      <td>...</td>\n",
       "      <td>...</td>\n",
       "      <td>...</td>\n",
       "      <td>...</td>\n",
       "      <td>...</td>\n",
       "    </tr>\n",
       "    <tr>\n",
       "      <th>999995</th>\n",
       "      <td>5.0</td>\n",
       "      <td>Five Stars</td>\n",
       "      <td>You can't go wrong with Martin.</td>\n",
       "      <td>0</td>\n",
       "      <td>4.8</td>\n",
       "    </tr>\n",
       "    <tr>\n",
       "      <th>999996</th>\n",
       "      <td>5.0</td>\n",
       "      <td>Five Stars</td>\n",
       "      <td>You can't go wrong with Martin.</td>\n",
       "      <td>0</td>\n",
       "      <td>4.9</td>\n",
       "    </tr>\n",
       "    <tr>\n",
       "      <th>999997</th>\n",
       "      <td>4.0</td>\n",
       "      <td>Predictable ending but good action</td>\n",
       "      <td>Good pace of action and good characters.  Plot...</td>\n",
       "      <td>1</td>\n",
       "      <td>4.2</td>\n",
       "    </tr>\n",
       "    <tr>\n",
       "      <th>999998</th>\n",
       "      <td>4.0</td>\n",
       "      <td>pretty decent ww2 flick</td>\n",
       "      <td>i watched th whole thing so that is one criter...</td>\n",
       "      <td>1</td>\n",
       "      <td>3.1</td>\n",
       "    </tr>\n",
       "    <tr>\n",
       "      <th>999999</th>\n",
       "      <td>1.0</td>\n",
       "      <td>weak. very weak</td>\n",
       "      <td>this starts out somewhat interesting but fades...</td>\n",
       "      <td>6</td>\n",
       "      <td>4.5</td>\n",
       "    </tr>\n",
       "  </tbody>\n",
       "</table>\n",
       "<p>999851 rows × 5 columns</p>\n",
       "</div>"
      ],
      "text/plain": [
       "        rating                                       review_title  \\\n",
       "0          5.0                                         Five Stars   \n",
       "1          5.0                                         Five Stars   \n",
       "2          3.0                       Some decent moments...but...   \n",
       "3          4.0  Decent Depiction of Lower-Functioning Autism, ...   \n",
       "4          5.0                                    What Love Is...   \n",
       "...        ...                                                ...   \n",
       "999995     5.0                                         Five Stars   \n",
       "999996     5.0                                         Five Stars   \n",
       "999997     4.0                 Predictable ending but good action   \n",
       "999998     4.0                            pretty decent ww2 flick   \n",
       "999999     1.0                                    weak. very weak   \n",
       "\n",
       "                                                     text  helpful_vote  \\\n",
       "0                Amazon, please buy the show! I'm hooked!             0   \n",
       "1                              My Kiddos LOVE this show!!             0   \n",
       "2       Annabella Sciorra did her character justice wi...             0   \n",
       "3       ...there should be more of a range of characte...             1   \n",
       "4       ...isn't always how you expect it to be, but w...             0   \n",
       "...                                                   ...           ...   \n",
       "999995                    You can't go wrong with Martin.             0   \n",
       "999996                    You can't go wrong with Martin.             0   \n",
       "999997  Good pace of action and good characters.  Plot...             1   \n",
       "999998  i watched th whole thing so that is one criter...             1   \n",
       "999999  this starts out somewhat interesting but fades...             6   \n",
       "\n",
       "        average_rating  \n",
       "0                  4.6  \n",
       "1                  4.8  \n",
       "2                  3.9  \n",
       "3                  4.8  \n",
       "4                  4.5  \n",
       "...                ...  \n",
       "999995             4.8  \n",
       "999996             4.9  \n",
       "999997             4.2  \n",
       "999998             3.1  \n",
       "999999             4.5  \n",
       "\n",
       "[999851 rows x 5 columns]"
      ]
     },
     "execution_count": 7,
     "metadata": {},
     "output_type": "execute_result"
    }
   ],
   "source": [
    "pipeline.load(df_transform)"
   ]
  },
  {
   "cell_type": "code",
   "execution_count": 8,
   "id": "3efc4d4b-5668-48d4-9912-07dc3c2abe4a",
   "metadata": {},
   "outputs": [],
   "source": [
    "df_transform = pipeline.extract(\"reviews_processed.csv\")"
   ]
  },
  {
   "cell_type": "code",
   "execution_count": 5,
   "id": "22afd50c-ee57-4337-aef3-40224e5daf1b",
   "metadata": {},
   "outputs": [
    {
     "name": "stderr",
     "output_type": "stream",
     "text": [
      "[nltk_data] Downloading package vader_lexicon to\n",
      "[nltk_data]     /Users/punitaverma/nltk_data...\n",
      "[nltk_data]   Package vader_lexicon is already up-to-date!\n"
     ]
    }
   ],
   "source": [
    "import model\n",
    "from model import Reviews_Model"
   ]
  },
  {
   "cell_type": "code",
   "execution_count": 10,
   "id": "a87a90f3-e809-4ad1-a357-e8634afe596f",
   "metadata": {},
   "outputs": [
    {
     "data": {
      "text/html": [
       "<div>\n",
       "<style scoped>\n",
       "    .dataframe tbody tr th:only-of-type {\n",
       "        vertical-align: middle;\n",
       "    }\n",
       "\n",
       "    .dataframe tbody tr th {\n",
       "        vertical-align: top;\n",
       "    }\n",
       "\n",
       "    .dataframe thead th {\n",
       "        text-align: right;\n",
       "    }\n",
       "</style>\n",
       "<table border=\"1\" class=\"dataframe\">\n",
       "  <thead>\n",
       "    <tr style=\"text-align: right;\">\n",
       "      <th></th>\n",
       "      <th>rating</th>\n",
       "      <th>review_title</th>\n",
       "      <th>text</th>\n",
       "      <th>helpful_vote</th>\n",
       "      <th>average_rating</th>\n",
       "    </tr>\n",
       "  </thead>\n",
       "  <tbody>\n",
       "    <tr>\n",
       "      <th>0</th>\n",
       "      <td>5.0</td>\n",
       "      <td>Five Stars</td>\n",
       "      <td>Amazon, please buy the show! I'm hooked!</td>\n",
       "      <td>0</td>\n",
       "      <td>4.6</td>\n",
       "    </tr>\n",
       "    <tr>\n",
       "      <th>1</th>\n",
       "      <td>5.0</td>\n",
       "      <td>Five Stars</td>\n",
       "      <td>My Kiddos LOVE this show!!</td>\n",
       "      <td>0</td>\n",
       "      <td>4.8</td>\n",
       "    </tr>\n",
       "    <tr>\n",
       "      <th>2</th>\n",
       "      <td>3.0</td>\n",
       "      <td>Some decent moments...but...</td>\n",
       "      <td>Annabella Sciorra did her character justice wi...</td>\n",
       "      <td>0</td>\n",
       "      <td>3.9</td>\n",
       "    </tr>\n",
       "    <tr>\n",
       "      <th>3</th>\n",
       "      <td>4.0</td>\n",
       "      <td>Decent Depiction of Lower-Functioning Autism, ...</td>\n",
       "      <td>...there should be more of a range of characte...</td>\n",
       "      <td>1</td>\n",
       "      <td>4.8</td>\n",
       "    </tr>\n",
       "    <tr>\n",
       "      <th>4</th>\n",
       "      <td>5.0</td>\n",
       "      <td>What Love Is...</td>\n",
       "      <td>...isn't always how you expect it to be, but w...</td>\n",
       "      <td>0</td>\n",
       "      <td>4.5</td>\n",
       "    </tr>\n",
       "  </tbody>\n",
       "</table>\n",
       "</div>"
      ],
      "text/plain": [
       "   rating                                       review_title  \\\n",
       "0     5.0                                         Five Stars   \n",
       "1     5.0                                         Five Stars   \n",
       "2     3.0                       Some decent moments...but...   \n",
       "3     4.0  Decent Depiction of Lower-Functioning Autism, ...   \n",
       "4     5.0                                    What Love Is...   \n",
       "\n",
       "                                                text  helpful_vote  \\\n",
       "0           Amazon, please buy the show! I'm hooked!             0   \n",
       "1                         My Kiddos LOVE this show!!             0   \n",
       "2  Annabella Sciorra did her character justice wi...             0   \n",
       "3  ...there should be more of a range of characte...             1   \n",
       "4  ...isn't always how you expect it to be, but w...             0   \n",
       "\n",
       "   average_rating  \n",
       "0             4.6  \n",
       "1             4.8  \n",
       "2             3.9  \n",
       "3             4.8  \n",
       "4             4.5  "
      ]
     },
     "execution_count": 10,
     "metadata": {},
     "output_type": "execute_result"
    }
   ],
   "source": [
    "df_transform.head()"
   ]
  },
  {
   "cell_type": "code",
   "execution_count": 11,
   "id": "840c4058-2c08-428e-b294-103c3acff549",
   "metadata": {
    "scrolled": true
   },
   "outputs": [
    {
     "data": {
      "text/plain": [
       "str"
      ]
     },
     "execution_count": 11,
     "metadata": {},
     "output_type": "execute_result"
    }
   ],
   "source": [
    "type(df_transform.columns[2])"
   ]
  },
  {
   "cell_type": "code",
   "execution_count": 16,
   "id": "3e212fe3-5f3a-4dd0-8039-80f973ff59d0",
   "metadata": {},
   "outputs": [
    {
     "name": "stdout",
     "output_type": "stream",
     "text": [
      "Precision: 0.8690476190476191\n",
      "Recall: 0.9358974358974359\n",
      "Accuracy: 0.84\n",
      "F1 Score: 0.9012345679012346\n",
      "MCC: 0.49254205921695676\n",
      "Creating report.txt file at  /Users/punitaverma/Desktop/workspace/verma-705.603spring24/Sentiment_Analysis/analysis/results\n"
     ]
    },
    {
     "name": "stderr",
     "output_type": "stream",
     "text": [
      "[nltk_data] Downloading package vader_lexicon to\n",
      "[nltk_data]     /Users/punitaverma/nltk_data...\n",
      "[nltk_data]   Package vader_lexicon is already up-to-date!\n",
      "/Users/punitaverma/Desktop/workspace/verma-705.603spring24/Sentiment_Analysis/analysis/model.py:34: SettingWithCopyWarning: \n",
      "A value is trying to be set on a copy of a slice from a DataFrame.\n",
      "Try using .loc[row_indexer,col_indexer] = value instead\n",
      "\n",
      "See the caveats in the documentation: https://pandas.pydata.org/pandas-docs/stable/user_guide/indexing.html#returning-a-view-versus-a-copy\n",
      "  df.at[i, 'sentiment'] = label\n",
      "/Users/punitaverma/Desktop/workspace/verma-705.603spring24/Sentiment_Analysis/analysis/model.py:36: SettingWithCopyWarning: \n",
      "A value is trying to be set on a copy of a slice from a DataFrame.\n",
      "Try using .loc[row_indexer,col_indexer] = value instead\n",
      "\n",
      "See the caveats in the documentation: https://pandas.pydata.org/pandas-docs/stable/user_guide/indexing.html#returning-a-view-versus-a-copy\n",
      "  df['rating_cat'] = pd.cut(df['rating'], bins=[0, 2.5, 3.5, 5], labels=['negative', 'neutral', 'positive'])\n"
     ]
    }
   ],
   "source": [
    "model = Reviews_Model()\n",
    "y_pred = model.test(df_transform[0:100])"
   ]
  },
  {
   "cell_type": "code",
   "execution_count": 17,
   "id": "180a17f1-74c0-4099-b257-bd6651efcdb6",
   "metadata": {},
   "outputs": [
    {
     "data": {
      "text/plain": [
       "100"
      ]
     },
     "execution_count": 17,
     "metadata": {},
     "output_type": "execute_result"
    }
   ],
   "source": [
    "len(y_pred)"
   ]
  },
  {
   "cell_type": "code",
   "execution_count": 18,
   "id": "84fa389e-74cf-45a1-8cd5-b915fc10a6b3",
   "metadata": {},
   "outputs": [],
   "source": [
    "# for i, row in df_transform.iterrows():\n",
    "#     print(i)"
   ]
  },
  {
   "cell_type": "code",
   "execution_count": 19,
   "id": "8e68b6ac-a3f1-426e-a2dc-9e39672498b9",
   "metadata": {},
   "outputs": [
    {
     "data": {
      "text/plain": [
       "999851"
      ]
     },
     "execution_count": 19,
     "metadata": {},
     "output_type": "execute_result"
    }
   ],
   "source": [
    "len(df_transform)"
   ]
  },
  {
   "cell_type": "code",
   "execution_count": 20,
   "id": "3ec2cc3a-8d01-484e-aa74-80f0bfb7cd01",
   "metadata": {},
   "outputs": [],
   "source": [
    "# y_pred[#0:5]"
   ]
  },
  {
   "cell_type": "code",
   "execution_count": 21,
   "id": "d6c8d2ff-fddb-439c-ac5c-a921783d9340",
   "metadata": {},
   "outputs": [
    {
     "data": {
      "text/plain": [
       "'positive'"
      ]
     },
     "execution_count": 21,
     "metadata": {},
     "output_type": "execute_result"
    }
   ],
   "source": [
    "y_pred[0]"
   ]
  },
  {
   "cell_type": "code",
   "execution_count": 24,
   "id": "e4083db1-21e1-4b1a-953d-b5088437b098",
   "metadata": {},
   "outputs": [
    {
     "name": "stdout",
     "output_type": "stream",
     "text": [
      "positive\n",
      "Unnamed: 0                                                           0\n",
      "rating                                                             5.0\n",
      "review_title                                                Five Stars\n",
      "text                          Amazon, please buy the show! I'm hooked!\n",
      "images_x                                                            []\n",
      "asin                                                        B013488XFS\n",
      "parent_asin                                                 B013488XFS\n",
      "user_id                                   AGGZ357AO26RQZVRLGU4D4N52DZQ\n",
      "timestamp                                                1440385637000\n",
      "helpful_vote                                                         0\n",
      "verified_purchase                                                 True\n",
      "main_category                                              Prime Video\n",
      "movie_title                                                Sneaky Pete\n",
      "subtitle                                            Ads BadgeAds Badge\n",
      "average_rating                                                     4.6\n",
      "rating_number                                                  56658.0\n",
      "features             ['IMDb 8.1', '2017', '10 episodes', 'X-Ray', '...\n",
      "description          ['A\\xa0con man (Giovanni Ribisi) on the run fr...\n",
      "price                                                              NaN\n",
      "images_y             [{'360w': 'https://images-na.ssl-images-amazon...\n",
      "videos                                                              []\n",
      "store                                                              NaN\n",
      "categories                                       ['Suspense', 'Drama']\n",
      "details              {'Content advisory': ['Nudity', 'violence', 's...\n",
      "bought_together                                                    NaN\n",
      "author                                                             NaN\n",
      "Name: 0, dtype: object\n"
     ]
    }
   ],
   "source": [
    "print(model.predict(df.iloc[0,:]))\n",
    "print(df.iloc[0,:])"
   ]
  },
  {
   "cell_type": "code",
   "execution_count": 25,
   "id": "8d5f0b39-1a57-4608-9ffd-d13bbeb580cd",
   "metadata": {},
   "outputs": [
    {
     "name": "stdout",
     "output_type": "stream",
     "text": [
      "positive\n",
      "Unnamed: 0                                                          32\n",
      "rating                                                             4.0\n",
      "review_title                                    GOOD TO WATCH ONE TIME\n",
      "text                 CAN GO EITHER WAY ON THIS ONE; GOOD TO WATCH O...\n",
      "images_x                                                            []\n",
      "asin                                                        B000SMNL92\n",
      "parent_asin                                                 B000SMNL92\n",
      "user_id                                   AEFKF6R2GUSK2AWPSWRR4ZO36JVQ\n",
      "timestamp                                                1411381209000\n",
      "helpful_vote                                                         0\n",
      "verified_purchase                                                 True\n",
      "main_category                                              Movies & TV\n",
      "movie_title                         Birds of Prey: The Complete Series\n",
      "subtitle                                                           NaN\n",
      "average_rating                                                     4.5\n",
      "rating_number                                                    989.0\n",
      "features                                                            []\n",
      "description          ['Birds of Prey: The Complete Series (DVD)', \"...\n",
      "price                                                             12.9\n",
      "images_y             [{'thumb': 'https://m.media-amazon.com/images/...\n",
      "videos               [{'title': 'Birds Of Prey', 'url': 'https://ww...\n",
      "store                Ashley Scott  (Actor),     Dina Meyer  (Actor)...\n",
      "categories           ['Movies & TV', 'Studio Specials', 'Warner Hom...\n",
      "details              {'Genre': 'Drama, Action & Adventure, Science ...\n",
      "bought_together                                                    NaN\n",
      "author                                                             NaN\n",
      "Name: 32, dtype: object\n"
     ]
    }
   ],
   "source": [
    "print(model.predict(df.iloc[32,:]))\n",
    "print(df.iloc[32,:])"
   ]
  },
  {
   "cell_type": "code",
   "execution_count": 35,
   "id": "b2dc2dba-c4dd-4e04-93e2-d6d1eb090b8b",
   "metadata": {},
   "outputs": [
    {
     "name": "stdout",
     "output_type": "stream",
     "text": [
      "negative\n",
      "Unnamed: 0                                                         103\n",
      "rating                                                             2.0\n",
      "review_title                                         Pretty bad acting\n",
      "text                 I wanted to like this movie but the acting was...\n",
      "images_x                                                            []\n",
      "asin                                                        B07R6YJMW5\n",
      "parent_asin                                                 B07R6YJMW5\n",
      "user_id                                   AFGNIWCBLQT2QIXXKIW7Q6VREZRQ\n",
      "timestamp                                                1601945070933\n",
      "helpful_vote                                                         0\n",
      "verified_purchase                                                 True\n",
      "main_category                                              Prime Video\n",
      "movie_title                                    A Husband For Christmas\n",
      "subtitle                                                           NaN\n",
      "average_rating                                                     4.0\n",
      "rating_number                                                     73.0\n",
      "features             ['IMDb 4.9', '1 h 27 min', '2016', 'X-Ray', '1...\n",
      "description          ['Two co-workers agree to a loveless marriage ...\n",
      "price                                                              NaN\n",
      "images_y             [{'360w': 'https://images-na.ssl-images-amazon...\n",
      "videos                                                              []\n",
      "store                                                              NaN\n",
      "categories               ['Comedy', 'Drama', 'Charming', 'Passionate']\n",
      "details              {'Content advisory': ['Alcohol use'], 'Audio l...\n",
      "bought_together                                                    NaN\n",
      "author                                                             NaN\n",
      "Name: 103, dtype: object\n"
     ]
    }
   ],
   "source": [
    "print(model.predict(df.iloc[103,:]))\n",
    "print(df.iloc[103,:])"
   ]
  },
  {
   "cell_type": "code",
   "execution_count": null,
   "id": "eed652c3-1ff0-4736-8750-143c883da21e",
   "metadata": {},
   "outputs": [],
   "source": []
  }
 ],
 "metadata": {
  "kernelspec": {
   "display_name": "Python (en605645)",
   "language": "python",
   "name": "en605645"
  },
  "language_info": {
   "codemirror_mode": {
    "name": "ipython",
    "version": 3
   },
   "file_extension": ".py",
   "mimetype": "text/x-python",
   "name": "python",
   "nbconvert_exporter": "python",
   "pygments_lexer": "ipython3",
   "version": "3.10.8"
  }
 },
 "nbformat": 4,
 "nbformat_minor": 5
}
