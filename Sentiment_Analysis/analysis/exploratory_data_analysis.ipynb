{
 "cells": [
  {
   "cell_type": "markdown",
   "id": "ff410181-ec5c-49c0-a6ce-c895ea8826d7",
   "metadata": {},
   "source": [
    "## Exploratory Data Analysis"
   ]
  },
  {
   "cell_type": "code",
   "execution_count": 22,
   "id": "3d027a1e-6394-48d3-9c09-e88452f070f6",
   "metadata": {},
   "outputs": [],
   "source": [
    "import pandas as pd\n",
    "from copy import deepcopy\n",
    "import nltk"
   ]
  },
  {
   "cell_type": "code",
   "execution_count": 2,
   "id": "02cc6699-fc84-42d6-992d-c0d56974ca72",
   "metadata": {},
   "outputs": [
    {
     "name": "stderr",
     "output_type": "stream",
     "text": [
      "/var/folders/3w/mwx278b95z5b8wh63zkvl7xm0000gn/T/ipykernel_6054/2540728358.py:1: DtypeWarning: Columns (18,25) have mixed types. Specify dtype option on import or set low_memory=False.\n",
      "  df = pd.read_csv(\"amazon_movie_reviews.csv\")\n"
     ]
    },
    {
     "data": {
      "text/html": [
       "<div>\n",
       "<style scoped>\n",
       "    .dataframe tbody tr th:only-of-type {\n",
       "        vertical-align: middle;\n",
       "    }\n",
       "\n",
       "    .dataframe tbody tr th {\n",
       "        vertical-align: top;\n",
       "    }\n",
       "\n",
       "    .dataframe thead th {\n",
       "        text-align: right;\n",
       "    }\n",
       "</style>\n",
       "<table border=\"1\" class=\"dataframe\">\n",
       "  <thead>\n",
       "    <tr style=\"text-align: right;\">\n",
       "      <th></th>\n",
       "      <th>Unnamed: 0</th>\n",
       "      <th>rating</th>\n",
       "      <th>review_title</th>\n",
       "      <th>text</th>\n",
       "      <th>images_x</th>\n",
       "      <th>asin</th>\n",
       "      <th>parent_asin</th>\n",
       "      <th>user_id</th>\n",
       "      <th>timestamp</th>\n",
       "      <th>helpful_vote</th>\n",
       "      <th>...</th>\n",
       "      <th>features</th>\n",
       "      <th>description</th>\n",
       "      <th>price</th>\n",
       "      <th>images_y</th>\n",
       "      <th>videos</th>\n",
       "      <th>store</th>\n",
       "      <th>categories</th>\n",
       "      <th>details</th>\n",
       "      <th>bought_together</th>\n",
       "      <th>author</th>\n",
       "    </tr>\n",
       "  </thead>\n",
       "  <tbody>\n",
       "    <tr>\n",
       "      <th>0</th>\n",
       "      <td>0</td>\n",
       "      <td>5.0</td>\n",
       "      <td>Five Stars</td>\n",
       "      <td>Amazon, please buy the show! I'm hooked!</td>\n",
       "      <td>[]</td>\n",
       "      <td>B013488XFS</td>\n",
       "      <td>B013488XFS</td>\n",
       "      <td>AGGZ357AO26RQZVRLGU4D4N52DZQ</td>\n",
       "      <td>1440385637000</td>\n",
       "      <td>0</td>\n",
       "      <td>...</td>\n",
       "      <td>['IMDb 8.1', '2017', '10 episodes', 'X-Ray', '...</td>\n",
       "      <td>['A\\xa0con man (Giovanni Ribisi) on the run fr...</td>\n",
       "      <td>NaN</td>\n",
       "      <td>[{'360w': 'https://images-na.ssl-images-amazon...</td>\n",
       "      <td>[]</td>\n",
       "      <td>NaN</td>\n",
       "      <td>['Suspense', 'Drama']</td>\n",
       "      <td>{'Content advisory': ['Nudity', 'violence', 's...</td>\n",
       "      <td>NaN</td>\n",
       "      <td>NaN</td>\n",
       "    </tr>\n",
       "    <tr>\n",
       "      <th>1</th>\n",
       "      <td>1</td>\n",
       "      <td>5.0</td>\n",
       "      <td>Five Stars</td>\n",
       "      <td>My Kiddos LOVE this show!!</td>\n",
       "      <td>[]</td>\n",
       "      <td>B00CB6VTDS</td>\n",
       "      <td>B00CB6VTDS</td>\n",
       "      <td>AGKASBHYZPGTEPO6LWZPVJWB2BVA</td>\n",
       "      <td>1461100610000</td>\n",
       "      <td>0</td>\n",
       "      <td>...</td>\n",
       "      <td>['2014', '13 episodes', 'X-Ray', 'ALL']</td>\n",
       "      <td>['Follow the adventures of Arty and his sideki...</td>\n",
       "      <td>NaN</td>\n",
       "      <td>[{'360w': 'https://images-na.ssl-images-amazon...</td>\n",
       "      <td>[]</td>\n",
       "      <td>NaN</td>\n",
       "      <td>['Kids']</td>\n",
       "      <td>{'Audio languages': ['English Dialogue Boost: ...</td>\n",
       "      <td>NaN</td>\n",
       "      <td>NaN</td>\n",
       "    </tr>\n",
       "    <tr>\n",
       "      <th>2</th>\n",
       "      <td>2</td>\n",
       "      <td>3.0</td>\n",
       "      <td>Some decent moments...but...</td>\n",
       "      <td>Annabella Sciorra did her character justice wi...</td>\n",
       "      <td>[]</td>\n",
       "      <td>B096Z8Z3R6</td>\n",
       "      <td>B096Z8Z3R6</td>\n",
       "      <td>AG2L7H23R5LLKDKLBEF2Q3L2MVDA</td>\n",
       "      <td>1646271834582</td>\n",
       "      <td>0</td>\n",
       "      <td>...</td>\n",
       "      <td>NaN</td>\n",
       "      <td>NaN</td>\n",
       "      <td>NaN</td>\n",
       "      <td>[{'360w': 'https://images-na.ssl-images-amazon...</td>\n",
       "      <td>[]</td>\n",
       "      <td>NaN</td>\n",
       "      <td>NaN</td>\n",
       "      <td>{'Content advisory': ['Violence', 'substance u...</td>\n",
       "      <td>NaN</td>\n",
       "      <td>NaN</td>\n",
       "    </tr>\n",
       "    <tr>\n",
       "      <th>3</th>\n",
       "      <td>3</td>\n",
       "      <td>4.0</td>\n",
       "      <td>Decent Depiction of Lower-Functioning Autism, ...</td>\n",
       "      <td>...there should be more of a range of characte...</td>\n",
       "      <td>[]</td>\n",
       "      <td>B09M14D9FZ</td>\n",
       "      <td>B09M14D9FZ</td>\n",
       "      <td>AG2L7H23R5LLKDKLBEF2Q3L2MVDA</td>\n",
       "      <td>1645937761864</td>\n",
       "      <td>1</td>\n",
       "      <td>...</td>\n",
       "      <td>NaN</td>\n",
       "      <td>NaN</td>\n",
       "      <td>NaN</td>\n",
       "      <td>[{'360w': 'https://images-na.ssl-images-amazon...</td>\n",
       "      <td>[]</td>\n",
       "      <td>NaN</td>\n",
       "      <td>NaN</td>\n",
       "      <td>{'Content advisory': ['Violence', 'alcohol use...</td>\n",
       "      <td>NaN</td>\n",
       "      <td>NaN</td>\n",
       "    </tr>\n",
       "    <tr>\n",
       "      <th>4</th>\n",
       "      <td>4</td>\n",
       "      <td>5.0</td>\n",
       "      <td>What Love Is...</td>\n",
       "      <td>...isn't always how you expect it to be, but w...</td>\n",
       "      <td>[]</td>\n",
       "      <td>B001H1SVZC</td>\n",
       "      <td>B001H1SVZC</td>\n",
       "      <td>AG2L7H23R5LLKDKLBEF2Q3L2MVDA</td>\n",
       "      <td>1590639227074</td>\n",
       "      <td>0</td>\n",
       "      <td>...</td>\n",
       "      <td>NaN</td>\n",
       "      <td>NaN</td>\n",
       "      <td>NaN</td>\n",
       "      <td>[{'360w': 'https://images-na.ssl-images-amazon...</td>\n",
       "      <td>[]</td>\n",
       "      <td>NaN</td>\n",
       "      <td>NaN</td>\n",
       "      <td>{'Subtitles': ['None available'], 'Directors':...</td>\n",
       "      <td>NaN</td>\n",
       "      <td>NaN</td>\n",
       "    </tr>\n",
       "  </tbody>\n",
       "</table>\n",
       "<p>5 rows × 26 columns</p>\n",
       "</div>"
      ],
      "text/plain": [
       "   Unnamed: 0  rating                                       review_title  \\\n",
       "0           0     5.0                                         Five Stars   \n",
       "1           1     5.0                                         Five Stars   \n",
       "2           2     3.0                       Some decent moments...but...   \n",
       "3           3     4.0  Decent Depiction of Lower-Functioning Autism, ...   \n",
       "4           4     5.0                                    What Love Is...   \n",
       "\n",
       "                                                text images_x        asin  \\\n",
       "0           Amazon, please buy the show! I'm hooked!       []  B013488XFS   \n",
       "1                         My Kiddos LOVE this show!!       []  B00CB6VTDS   \n",
       "2  Annabella Sciorra did her character justice wi...       []  B096Z8Z3R6   \n",
       "3  ...there should be more of a range of characte...       []  B09M14D9FZ   \n",
       "4  ...isn't always how you expect it to be, but w...       []  B001H1SVZC   \n",
       "\n",
       "  parent_asin                       user_id      timestamp  helpful_vote  ...  \\\n",
       "0  B013488XFS  AGGZ357AO26RQZVRLGU4D4N52DZQ  1440385637000             0  ...   \n",
       "1  B00CB6VTDS  AGKASBHYZPGTEPO6LWZPVJWB2BVA  1461100610000             0  ...   \n",
       "2  B096Z8Z3R6  AG2L7H23R5LLKDKLBEF2Q3L2MVDA  1646271834582             0  ...   \n",
       "3  B09M14D9FZ  AG2L7H23R5LLKDKLBEF2Q3L2MVDA  1645937761864             1  ...   \n",
       "4  B001H1SVZC  AG2L7H23R5LLKDKLBEF2Q3L2MVDA  1590639227074             0  ...   \n",
       "\n",
       "                                            features  \\\n",
       "0  ['IMDb 8.1', '2017', '10 episodes', 'X-Ray', '...   \n",
       "1            ['2014', '13 episodes', 'X-Ray', 'ALL']   \n",
       "2                                                NaN   \n",
       "3                                                NaN   \n",
       "4                                                NaN   \n",
       "\n",
       "                                         description price  \\\n",
       "0  ['A\\xa0con man (Giovanni Ribisi) on the run fr...   NaN   \n",
       "1  ['Follow the adventures of Arty and his sideki...   NaN   \n",
       "2                                                NaN   NaN   \n",
       "3                                                NaN   NaN   \n",
       "4                                                NaN   NaN   \n",
       "\n",
       "                                            images_y  videos  store  \\\n",
       "0  [{'360w': 'https://images-na.ssl-images-amazon...      []    NaN   \n",
       "1  [{'360w': 'https://images-na.ssl-images-amazon...      []    NaN   \n",
       "2  [{'360w': 'https://images-na.ssl-images-amazon...      []    NaN   \n",
       "3  [{'360w': 'https://images-na.ssl-images-amazon...      []    NaN   \n",
       "4  [{'360w': 'https://images-na.ssl-images-amazon...      []    NaN   \n",
       "\n",
       "              categories                                            details  \\\n",
       "0  ['Suspense', 'Drama']  {'Content advisory': ['Nudity', 'violence', 's...   \n",
       "1               ['Kids']  {'Audio languages': ['English Dialogue Boost: ...   \n",
       "2                    NaN  {'Content advisory': ['Violence', 'substance u...   \n",
       "3                    NaN  {'Content advisory': ['Violence', 'alcohol use...   \n",
       "4                    NaN  {'Subtitles': ['None available'], 'Directors':...   \n",
       "\n",
       "  bought_together author  \n",
       "0             NaN    NaN  \n",
       "1             NaN    NaN  \n",
       "2             NaN    NaN  \n",
       "3             NaN    NaN  \n",
       "4             NaN    NaN  \n",
       "\n",
       "[5 rows x 26 columns]"
      ]
     },
     "execution_count": 2,
     "metadata": {},
     "output_type": "execute_result"
    }
   ],
   "source": [
    "df = pd.read_csv(\"amazon_movie_reviews.csv\")\n",
    "df.head()"
   ]
  },
  {
   "cell_type": "code",
   "execution_count": 28,
   "id": "f92614bc-4135-4d95-8c22-73bfc4c950aa",
   "metadata": {},
   "outputs": [
    {
     "data": {
      "text/plain": [
       "1000000"
      ]
     },
     "execution_count": 28,
     "metadata": {},
     "output_type": "execute_result"
    }
   ],
   "source": [
    "len(df)"
   ]
  },
  {
   "cell_type": "code",
   "execution_count": 29,
   "id": "1f569124-4299-4386-be93-4daf7dfea9f7",
   "metadata": {},
   "outputs": [],
   "source": [
    "# Only extracting features relevant to reviews\n",
    "\n",
    "df_processed = deepcopy(df[[\"rating\", \"review_title\", \"text\", \"helpful_vote\", \"average_rating\"]])\n",
    "# does price matter?                   "
   ]
  },
  {
   "cell_type": "code",
   "execution_count": 30,
   "id": "b0b2a772-5b8e-408a-b93f-f5f20babe16f",
   "metadata": {},
   "outputs": [
    {
     "data": {
      "text/html": [
       "<div>\n",
       "<style scoped>\n",
       "    .dataframe tbody tr th:only-of-type {\n",
       "        vertical-align: middle;\n",
       "    }\n",
       "\n",
       "    .dataframe tbody tr th {\n",
       "        vertical-align: top;\n",
       "    }\n",
       "\n",
       "    .dataframe thead th {\n",
       "        text-align: right;\n",
       "    }\n",
       "</style>\n",
       "<table border=\"1\" class=\"dataframe\">\n",
       "  <thead>\n",
       "    <tr style=\"text-align: right;\">\n",
       "      <th></th>\n",
       "      <th>rating</th>\n",
       "      <th>review_title</th>\n",
       "      <th>text</th>\n",
       "      <th>helpful_vote</th>\n",
       "      <th>average_rating</th>\n",
       "    </tr>\n",
       "  </thead>\n",
       "  <tbody>\n",
       "    <tr>\n",
       "      <th>0</th>\n",
       "      <td>5.0</td>\n",
       "      <td>Five Stars</td>\n",
       "      <td>Amazon, please buy the show! I'm hooked!</td>\n",
       "      <td>0</td>\n",
       "      <td>4.6</td>\n",
       "    </tr>\n",
       "    <tr>\n",
       "      <th>1</th>\n",
       "      <td>5.0</td>\n",
       "      <td>Five Stars</td>\n",
       "      <td>My Kiddos LOVE this show!!</td>\n",
       "      <td>0</td>\n",
       "      <td>4.8</td>\n",
       "    </tr>\n",
       "    <tr>\n",
       "      <th>2</th>\n",
       "      <td>3.0</td>\n",
       "      <td>Some decent moments...but...</td>\n",
       "      <td>Annabella Sciorra did her character justice wi...</td>\n",
       "      <td>0</td>\n",
       "      <td>3.9</td>\n",
       "    </tr>\n",
       "    <tr>\n",
       "      <th>3</th>\n",
       "      <td>4.0</td>\n",
       "      <td>Decent Depiction of Lower-Functioning Autism, ...</td>\n",
       "      <td>...there should be more of a range of characte...</td>\n",
       "      <td>1</td>\n",
       "      <td>4.8</td>\n",
       "    </tr>\n",
       "    <tr>\n",
       "      <th>4</th>\n",
       "      <td>5.0</td>\n",
       "      <td>What Love Is...</td>\n",
       "      <td>...isn't always how you expect it to be, but w...</td>\n",
       "      <td>0</td>\n",
       "      <td>4.5</td>\n",
       "    </tr>\n",
       "  </tbody>\n",
       "</table>\n",
       "</div>"
      ],
      "text/plain": [
       "   rating                                       review_title  \\\n",
       "0     5.0                                         Five Stars   \n",
       "1     5.0                                         Five Stars   \n",
       "2     3.0                       Some decent moments...but...   \n",
       "3     4.0  Decent Depiction of Lower-Functioning Autism, ...   \n",
       "4     5.0                                    What Love Is...   \n",
       "\n",
       "                                                text  helpful_vote  \\\n",
       "0           Amazon, please buy the show! I'm hooked!             0   \n",
       "1                         My Kiddos LOVE this show!!             0   \n",
       "2  Annabella Sciorra did her character justice wi...             0   \n",
       "3  ...there should be more of a range of characte...             1   \n",
       "4  ...isn't always how you expect it to be, but w...             0   \n",
       "\n",
       "   average_rating  \n",
       "0             4.6  \n",
       "1             4.8  \n",
       "2             3.9  \n",
       "3             4.8  \n",
       "4             4.5  "
      ]
     },
     "execution_count": 30,
     "metadata": {},
     "output_type": "execute_result"
    }
   ],
   "source": [
    "df_processed.head()"
   ]
  },
  {
   "cell_type": "markdown",
   "id": "58f3aa91-5aef-48b3-b751-49b5e2591ae7",
   "metadata": {},
   "source": [
    "## *Testing models/params etc*"
   ]
  },
  {
   "cell_type": "code",
   "execution_count": 31,
   "id": "aab2c79e-422a-49b5-8390-479d69f4fd0b",
   "metadata": {},
   "outputs": [
    {
     "name": "stderr",
     "output_type": "stream",
     "text": [
      "[nltk_data] Downloading package vader_lexicon to\n",
      "[nltk_data]     /Users/punitaverma/nltk_data...\n",
      "[nltk_data]   Package vader_lexicon is already up-to-date!\n"
     ]
    }
   ],
   "source": [
    "nltk.download('vader_lexicon')\n",
    "from nltk.sentiment.vader import SentimentIntensityAnalyzer\n",
    "sid = SentimentIntensityAnalyzer()"
   ]
  },
  {
   "cell_type": "code",
   "execution_count": 53,
   "id": "79f74716-719e-4283-9ad7-c4076a12a27a",
   "metadata": {},
   "outputs": [
    {
     "name": "stdout",
     "output_type": "stream",
     "text": [
      "['amazon' 'buy' 'hooked' 'please' 'show' 'the']\n"
     ]
    }
   ],
   "source": [
    "type(df_processed.iloc[0,2])\n",
    "# x = encode(pd.Series(df_processed.iloc[0,2]), 'Bag-of-Words')"
   ]
  },
  {
   "cell_type": "code",
   "execution_count": 55,
   "id": "7489675a-2b66-40ee-aefd-81e5603f7259",
   "metadata": {},
   "outputs": [
    {
     "data": {
      "text/plain": [
       "{'neg': 0.0, 'neu': 0.522, 'pos': 0.478, 'compound': 0.555}"
      ]
     },
     "execution_count": 55,
     "metadata": {},
     "output_type": "execute_result"
    }
   ],
   "source": [
    "sid.polarity_scores(df_processed.iloc[0,2])"
   ]
  },
  {
   "cell_type": "code",
   "execution_count": 38,
   "id": "ef308baa-d9e5-48e4-afcf-ec271d7d3850",
   "metadata": {},
   "outputs": [
    {
     "name": "stderr",
     "output_type": "stream",
     "text": [
      "[nltk_data] Downloading package punkt to\n",
      "[nltk_data]     /Users/punitaverma/nltk_data...\n",
      "[nltk_data]   Package punkt is already up-to-date!\n"
     ]
    }
   ],
   "source": [
    "from sklearn.feature_extraction.text import CountVectorizer\n",
    "from sklearn.feature_extraction.text import TfidfVectorizer\n",
    "\n",
    "from gensim.models import Word2Vec\n",
    "from nltk.tokenize import word_tokenize\n",
    "import nltk\n",
    "# import pandas as pd\n",
    "\n",
    "# Download the NLTK tokenizer models (only the first time)\n",
    "nltk.download('punkt')\n",
    "\n",
    "def preprocess(corpus):\n",
    "    tokenized_corpus = []\n",
    "    for i, word in corpus.items():\n",
    "        tokenized_corpus.append(nltk.word_tokenize(word))\n",
    "    print(tokenized_corpus)\n",
    "    print([word for doc in tokenized_corpus for word in doc])\n",
    "    vocab = set()\n",
    "    for doc in tokenized_corpus:\n",
    "        for word in doc:\n",
    "            vocab.update(word)\n",
    "    return tokenized_corpus, vocab\n",
    "\n",
    "def encode(corpus, encoding_method):\n",
    "    if encoding_method == 'Bag-of-Words':\n",
    "        bow_vectorizer = CountVectorizer()\n",
    "        bow_matrix = bow_vectorizer.fit_transform(corpus)\n",
    "        print(bow_vectorizer.get_feature_names_out())\n",
    "        return bow_matrix.toarray()\n",
    "    \n",
    "    elif encoding_method == 'TF-IDF':\n",
    "        tdif_vectorizer = TfidfVectorizer()\n",
    "        tfidf_matrix = tdif_vectorizer.fit_transform(corpus)\n",
    "        print(tdif_vectorizer.get_feature_names_out())\n",
    "        return tfidf_matrix.toarray()\n",
    "    \n",
    "    elif encoding_method == 'Word2Vec':\n",
    "        model = Word2Vec([word_tokenize(doc) for doc in corpus], vector_size=20, window=5, min_count=1, workers=4)\n",
    "        #word_vectors = {word: model.wv[word] for word in model.wv.vocab}\n",
    "        return model\n"
   ]
  },
  {
   "cell_type": "code",
   "execution_count": 63,
   "id": "8fa6565d-e28e-473e-8907-5b21f6f9fa44",
   "metadata": {},
   "outputs": [],
   "source": [
    "df_processed.dropna(subset=['text'], inplace=True)"
   ]
  },
  {
   "cell_type": "code",
   "execution_count": 67,
   "id": "ec4e9637-44ec-4901-97e3-eca12f6fa5e6",
   "metadata": {},
   "outputs": [
    {
     "data": {
      "text/plain": [
       "str"
      ]
     },
     "execution_count": 67,
     "metadata": {},
     "output_type": "execute_result"
    }
   ],
   "source": [
    "type(df_processed['text'][0])"
   ]
  },
  {
   "cell_type": "code",
   "execution_count": 69,
   "id": "bbe5ef69-f68c-4c43-bd2a-24335704a493",
   "metadata": {},
   "outputs": [
    {
     "name": "stderr",
     "output_type": "stream",
     "text": [
      "[nltk_data] Downloading package vader_lexicon to\n",
      "[nltk_data]     /Users/punitaverma/nltk_data...\n",
      "[nltk_data]   Package vader_lexicon is already up-to-date!\n"
     ]
    },
    {
     "name": "stdout",
     "output_type": "stream",
     "text": [
      "                                                text  sentiment  \\\n",
      "0           Amazon, please buy the show! I'm hooked!     0.5550   \n",
      "1                         My Kiddos LOVE this show!!     0.7592   \n",
      "2  Annabella Sciorra did her character justice wi...     0.7657   \n",
      "3  ...there should be more of a range of characte...     0.9054   \n",
      "4  ...isn't always how you expect it to be, but w...     0.8957   \n",
      "\n",
      "  sentiment_label  \n",
      "0        positive  \n",
      "1        positive  \n",
      "2        positive  \n",
      "3        positive  \n",
      "4        positive  \n"
     ]
    }
   ],
   "source": [
    "from nltk.sentiment.vader import SentimentIntensityAnalyzer\n",
    "import nltk\n",
    "nltk.download('vader_lexicon')\n",
    "\n",
    "# Create an instance of the VADER sentiment analyzer\n",
    "sid = SentimentIntensityAnalyzer()\n",
    "\n",
    "# Convert non-string values to strings in the 'text' column\n",
    "df['text'] = df['text'].astype(str)\n",
    "\n",
    "# Analyze sentiment for each review text\n",
    "df['sentiment'] = df['text'].apply(lambda x: sid.polarity_scores(x)['compound'])\n",
    "\n",
    "# Convert sentiment scores to sentiment labels (positive, neutral, negative)\n",
    "df['sentiment_label'] = pd.cut(df['sentiment'], bins=[-1, -0.5, 0.5, 1], labels=['negative', 'neutral', 'positive'])\n",
    "\n",
    "# Print the first few rows of the DataFrame with sentiment analysis results\n",
    "print(df[['text', 'sentiment', 'sentiment_label']].head())"
   ]
  },
  {
   "cell_type": "code",
   "execution_count": null,
   "id": "9bb42a42-8d76-4ee0-a8d4-07fd21c17b03",
   "metadata": {},
   "outputs": [],
   "source": []
  }
 ],
 "metadata": {
  "kernelspec": {
   "display_name": "Python 3 (ipykernel)",
   "language": "python",
   "name": "python3"
  },
  "language_info": {
   "codemirror_mode": {
    "name": "ipython",
    "version": 3
   },
   "file_extension": ".py",
   "mimetype": "text/x-python",
   "name": "python",
   "nbconvert_exporter": "python",
   "pygments_lexer": "ipython3",
   "version": "3.11.4"
  }
 },
 "nbformat": 4,
 "nbformat_minor": 5
}
