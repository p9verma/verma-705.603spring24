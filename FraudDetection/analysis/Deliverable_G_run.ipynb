{
 "cells": [
  {
   "cell_type": "code",
   "execution_count": 23,
   "id": "10b878aa-a6b6-4f97-b1c9-92de9ac458d9",
   "metadata": {},
   "outputs": [],
   "source": [
    "import os\n",
    "import pandas as pd\n",
    "file_path = os.path.join(os.path.dirname(os.getcwd()), 'transactions.csv')\n",
    "df = pd.read_csv(file_path)"
   ]
  },
  {
   "cell_type": "code",
   "execution_count": 26,
   "id": "eef74722-f52f-420f-be7a-63b60948fc08",
   "metadata": {},
   "outputs": [
    {
     "name": "stdout",
     "output_type": "stream",
     "text": [
      "         Unnamed: 0 trans_date_trans_time            cc_num  \\\n",
      "2449           2449   2019-01-02 01:06:37     4613314721966   \n",
      "2472           2472   2019-01-02 01:47:29   340187018810220   \n",
      "2523           2523   2019-01-02 03:05:23   340187018810220   \n",
      "2546           2546   2019-01-02 03:38:03     4613314721966   \n",
      "2553           2553   2019-01-02 03:55:47   340187018810220   \n",
      "...             ...                   ...               ...   \n",
      "1813872     1813872   2020-12-22 22:05:48  2242176657877538   \n",
      "1813949     1813949   2020-12-22 22:18:07  2242176657877538   \n",
      "1814016     1814016   2020-12-22 22:31:48  2242176657877538   \n",
      "1814204     1814204   2020-12-22 23:06:03  2242176657877538   \n",
      "1814246     1814246   2020-12-22 23:13:39  2242176657877538   \n",
      "\n",
      "                                    merchant       category      amt   first  \\\n",
      "2449                  fraud_Rutherford-Mertz    grocery_pos   281.06   Jason   \n",
      "2472        fraud_Jenkins, Hauck and Friesen  gas_transport    11.52   Misty   \n",
      "2523                  fraud_Goodwin-Nitzsche    grocery_pos   276.31   Misty   \n",
      "2546                  fraud_Erdman-Kertzmann  gas_transport     7.03   Jason   \n",
      "2553                      fraud_Koepp-Parker    grocery_pos   275.73   Misty   \n",
      "...                                      ...            ...      ...     ...   \n",
      "1813872      fraud_Willms, Kris and Bergnaum   shopping_pos  1041.51  Travis   \n",
      "1813949                       fraud_Kuhn LLC   shopping_pos   868.09  Travis   \n",
      "1814016  fraud_Mosciski, Ziemann and Farrell   shopping_net  1039.42  Travis   \n",
      "1814204                   fraud_Bauch-Raynor    grocery_pos   289.27  Travis   \n",
      "1814246           fraud_Jaskolski-Vandervort       misc_net   766.38  Travis   \n",
      "\n",
      "           last sex                       street  ...      lat     long  \\\n",
      "2449     Murphy   M    542 Steve Curve Suite 011  ...  35.9946 -81.7266   \n",
      "2472       Hart   F    27954 Hall Mill Suite 575  ...  29.4400 -98.4590   \n",
      "2523       Hart   F    27954 Hall Mill Suite 575  ...  29.4400 -98.4590   \n",
      "2546     Murphy   M    542 Steve Curve Suite 011  ...  35.9946 -81.7266   \n",
      "2553       Hart   F    27954 Hall Mill Suite 575  ...  29.4400 -98.4590   \n",
      "...         ...  ..                          ...  ...      ...      ...   \n",
      "1813872  Daniel   M  1327 Rose Causeway Apt. 610  ...  34.6323 -89.8855   \n",
      "1813949  Daniel   M  1327 Rose Causeway Apt. 610  ...  34.6323 -89.8855   \n",
      "1814016  Daniel   M  1327 Rose Causeway Apt. 610  ...  34.6323 -89.8855   \n",
      "1814204  Daniel   M  1327 Rose Causeway Apt. 610  ...  34.6323 -89.8855   \n",
      "1814246  Daniel   M  1327 Rose Causeway Apt. 610  ...  34.6323 -89.8855   \n",
      "\n",
      "         city_pop                       job         dob  \\\n",
      "2449          885            Soil scientist  1988-09-15   \n",
      "2472      1595797  Horticultural consultant  1960-10-28   \n",
      "2523      1595797  Horticultural consultant  1960-10-28   \n",
      "2546          885            Soil scientist  1988-09-15   \n",
      "2553      1595797  Horticultural consultant  1960-10-28   \n",
      "...           ...                       ...         ...   \n",
      "1813872     14462    Database administrator  1959-03-03   \n",
      "1813949     14462    Database administrator  1959-03-03   \n",
      "1814016     14462    Database administrator  1959-03-03   \n",
      "1814204     14462    Database administrator  1959-03-03   \n",
      "1814246     14462    Database administrator  1959-03-03   \n",
      "\n",
      "                                trans_num   unix_time  merch_lat merch_long  \\\n",
      "2449     e8a81877ae9a0a7f883e15cb39dc4022  1325466397  36.430124 -81.179483   \n",
      "2472     bc7d41c41103877b03232f03f1f8d3f5  1325468849  29.819364 -99.142791   \n",
      "2523     b98f12f4168391b2203238813df5aa8c  1325473523  29.273085 -98.836360   \n",
      "2546     397894a5c4c02e3c61c784001f0f14e4  1325475483  35.909292 -82.091010   \n",
      "2553     7863235a750d73a244c07f1fb7f0185a  1325476547  29.786426 -98.683410   \n",
      "...                                   ...         ...        ...        ...   \n",
      "1813872  35b0297dd026d2e9a75d024a5dec7955  1387749948  34.573471 -89.911011   \n",
      "1813949  da7f67d7375f10a054a3d919448c45dd  1387750687  34.091227 -90.390612   \n",
      "1814016  25b076c7bcd70f272c1c5326bb234f4b  1387751508  34.628434 -90.284780   \n",
      "1814204  2df7d894868fbc99ec1d8b055585fc9d  1387753563  34.746063 -90.401093   \n",
      "1814246  44292cbc51e37dc018ee6a988a4bc426  1387754019  33.771462 -90.651342   \n",
      "\n",
      "         is_fraud  \n",
      "2449            1  \n",
      "2472            1  \n",
      "2523            1  \n",
      "2546            1  \n",
      "2553            1  \n",
      "...           ...  \n",
      "1813872         1  \n",
      "1813949         1  \n",
      "1814016         1  \n",
      "1814204         1  \n",
      "1814246         1  \n",
      "\n",
      "[9651 rows x 23 columns]\n"
     ]
    }
   ],
   "source": [
    "fraudulent_row = df[df['is_fraud'] == 1]\n",
    "print(fraudulent_row)"
   ]
  },
  {
   "cell_type": "code",
   "execution_count": 27,
   "id": "79837ded-3508-4baa-837b-b10083208e03",
   "metadata": {},
   "outputs": [],
   "source": [
    "import json\n",
    "fraud_row = df.iloc[1813872,:].to_dict()\n",
    "with open('test_input_fraudulent_row.json', 'w') as f:\n",
    "    json.dump(fraud_row, f)"
   ]
  },
  {
   "cell_type": "code",
   "execution_count": 28,
   "id": "af446a35-67ba-4070-b3f4-d152dd359164",
   "metadata": {},
   "outputs": [
    {
     "name": "stdout",
     "output_type": "stream",
     "text": [
      "Predictions: Fraud\n"
     ]
    }
   ],
   "source": [
    "# Testing fraudulent json input to app\n",
    "import requests\n",
    "import json\n",
    "from urllib.parse import urlencode\n",
    "with open('test_input_fraudulent_row.json', 'r') as file:\n",
    "    input_data = json.load(file)\n",
    "# print(input_data)\n",
    "url = 'http://localhost:8786/predict'\n",
    "response = requests.post(url, json=input_data)\n",
    "predictions = response.json()\n",
    "print(\"Predictions:\", predictions)"
   ]
  },
  {
   "cell_type": "code",
   "execution_count": 4,
   "id": "bbc4fe4b-23c5-4f87-8839-902b04a61359",
   "metadata": {},
   "outputs": [
    {
     "name": "stdout",
     "output_type": "stream",
     "text": [
      "Predictions: Not Fraud\n"
     ]
    }
   ],
   "source": [
    "# Testing non-fraudulent json input to app\n",
    "import requests\n",
    "import json\n",
    "from urllib.parse import urlencode\n",
    "with open('test_input_non_fraud.json', 'r') as file:\n",
    "    input_data = json.load(file)\n",
    "# print(input_data)\n",
    "url = 'http://localhost:8786/predict'\n",
    "response = requests.post(url, json=input_data)\n",
    "predictions = response.json()\n",
    "print(\"Predictions:\", predictions)"
   ]
  },
  {
   "cell_type": "code",
   "execution_count": null,
   "id": "7beb5876-9b29-4d50-a29e-8be0dc1940eb",
   "metadata": {},
   "outputs": [],
   "source": []
  }
 ],
 "metadata": {
  "kernelspec": {
   "display_name": "Python 3 (ipykernel)",
   "language": "python",
   "name": "python3"
  },
  "language_info": {
   "codemirror_mode": {
    "name": "ipython",
    "version": 3
   },
   "file_extension": ".py",
   "mimetype": "text/x-python",
   "name": "python",
   "nbconvert_exporter": "python",
   "pygments_lexer": "ipython3",
   "version": "3.11.4"
  }
 },
 "nbformat": 4,
 "nbformat_minor": 5
}
