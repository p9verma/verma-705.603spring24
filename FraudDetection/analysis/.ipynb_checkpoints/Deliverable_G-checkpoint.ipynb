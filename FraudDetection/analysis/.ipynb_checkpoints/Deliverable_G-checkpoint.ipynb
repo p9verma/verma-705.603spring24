{
 "cells": [
  {
   "cell_type": "code",
   "execution_count": null,
   "id": "0c811803-1c57-43cd-a6c0-1ee10583b1b8",
   "metadata": {
    "scrolled": true
   },
   "outputs": [],
   "source": [
    "# %pip install flask"
   ]
  },
  {
   "cell_type": "code",
   "execution_count": 2,
   "id": "fa6299e1-a511-49ff-a16e-12004f0feeb4",
   "metadata": {
    "scrolled": true
   },
   "outputs": [
    {
     "name": "stdout",
     "output_type": "stream",
     "text": [
      "/Users/punitaverma/Desktop/AI Masters/705.603/workspace/verma-705.603spring24/FraudDetection/analysis/ml_microservice.py:7: DeprecationWarning: pkg_resources is deprecated as an API. See https://setuptools.pypa.io/en/latest/pkg_resources.html\n",
      "  import pkg_resources\n",
      "Traceback (most recent call last):\n",
      "  File \"/Users/punitaverma/Desktop/AI Masters/705.603/workspace/verma-705.603spring24/FraudDetection/analysis/ml_microservice.py\", line 8, in <module>\n",
      "    pkg_resources.require(\"sklearn==1.3.2\")\n",
      "  File \"/Users/punitaverma/anaconda3/lib/python3.11/site-packages/pkg_resources/__init__.py\", line 968, in require\n",
      "    needed = self.resolve(parse_requirements(requirements))\n",
      "             ^^^^^^^^^^^^^^^^^^^^^^^^^^^^^^^^^^^^^^^^^^^^^^\n",
      "  File \"/Users/punitaverma/anaconda3/lib/python3.11/site-packages/pkg_resources/__init__.py\", line 829, in resolve\n",
      "    dist = self._resolve_dist(\n",
      "           ^^^^^^^^^^^^^^^^^^^\n",
      "  File \"/Users/punitaverma/anaconda3/lib/python3.11/site-packages/pkg_resources/__init__.py\", line 875, in _resolve_dist\n",
      "    raise VersionConflict(dist, req).with_context(dependent_req)\n",
      "pkg_resources.VersionConflict: (sklearn 0.0.post7 (/Users/punitaverma/anaconda3/lib/python3.11/site-packages), Requirement.parse('sklearn==1.3.2'))\n"
     ]
    }
   ],
   "source": [
    "# %pip install scikit-learn==1.3.2\n",
    "# %pip install pkg_resources\n",
    "# %pip install --upgrade imbalanced-learn\n",
    "!python ml_microservice.py"
   ]
  },
  {
   "cell_type": "markdown",
   "id": "5e186961-15e2-45e7-85a7-81b2bad39f60",
   "metadata": {},
   "source": [
    "[http://localhost:8786/predict](http://localhost:8786/predict)"
   ]
  },
  {
   "cell_type": "code",
   "execution_count": 3,
   "id": "38728497-f5b4-45f3-9a39-4e792898a01d",
   "metadata": {},
   "outputs": [
    {
     "name": "stdout",
     "output_type": "stream",
     "text": [
      "Constructed URL: http://localhost:8786/predict?json_data=%7B%22Unnamed%3A+0%22%3A+2449%2C+%22trans_date_trans_time%22%3A+%222019-01-02+01%3A06%3A37%22%2C+%22cc_num%22%3A+4613314721966%2C+%22merchant%22%3A+%22fraud_Rutherford-Mertz%22%2C+%22category%22%3A+%22grocery_pos%22%2C+%22amt%22%3A+281.06%2C+%22first%22%3A+%22Jason%22%2C+%22last%22%3A+%22Murphy%22%2C+%22sex%22%3A+%22M%22%2C+%22street%22%3A+%22542+Steve+Curve+Suite+011%22%2C+%22city%22%3A+%22Collettsville%22%2C+%22state%22%3A+%22NC%22%2C+%22zip%22%3A+28611%2C+%22lat%22%3A+35.9946%2C+%22long%22%3A+-81.7266%2C+%22city_pop%22%3A+885%2C+%22job%22%3A+%22Soil+scientist%22%2C+%22dob%22%3A+%221988-09-15%22%2C+%22trans_num%22%3A+%22e8a81877ae9a0a7f883e15cb39dc4022%22%2C+%22unix_time%22%3A+1325466397%2C+%22merch_lat%22%3A+36.430124%2C+%22merch_long%22%3A+-81.17948299999999%2C+%22is_fraud%22%3A+1%7D\n"
     ]
    }
   ],
   "source": [
    "import requests\n",
    "import json\n",
    "from urllib.parse import urlencode\n",
    "with open('analysis/test_input_fraudulent_row.json', 'r') as file:\n",
    "    input_data = json.load(file)\n",
    "# print(input_data)\n",
    "url = 'http://localhost:8786/predict'\n",
    "response = requests.post(url, json=input_data)\n",
    "predictions = response\n",
    "print(\"Predictions:\", predictions)"
   ]
  }
 ],
 "metadata": {
  "kernelspec": {
   "display_name": "Python (en605645)",
   "language": "python",
   "name": "en605645"
  },
  "language_info": {
   "codemirror_mode": {
    "name": "ipython",
    "version": 3
   },
   "file_extension": ".py",
   "mimetype": "text/x-python",
   "name": "python",
   "nbconvert_exporter": "python",
   "pygments_lexer": "ipython3",
   "version": "3.10.8"
  }
 },
 "nbformat": 4,
 "nbformat_minor": 5
}
