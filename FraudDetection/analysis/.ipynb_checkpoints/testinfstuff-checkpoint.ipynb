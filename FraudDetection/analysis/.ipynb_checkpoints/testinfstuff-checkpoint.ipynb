{
 "cells": [
  {
   "cell_type": "code",
   "execution_count": 2,
   "id": "3a0c662c",
   "metadata": {},
   "outputs": [
    {
     "name": "stdout",
     "output_type": "stream",
     "text": [
      "Loading data...\n"
     ]
    }
   ],
   "source": [
    "import datetime\n",
    "import pandas as pd\n",
    "import sys\n",
    "from copy import deepcopy\n",
    "# sys.path.append(\"Desktop/AI Masters/705.603/workspace/verma-705.603spring24/FraudDetection/data_pipeline.py\")\n",
    "from datetime import date\n",
    "import data_pipeline\n",
    "from data_pipeline import ETL_Pipeline\n",
    "\n",
    "filename = \"transactions.csv\"\n",
    "\n",
    "pipeline = ETL_Pipeline()\n",
    "print(\"Loading data...\")\n",
    "data = pipeline.extract(filename)\n",
    "# print(\"Loaded data of length \", len(data))\n",
    "# print(\"Transforming data...\")\n",
    "# data = pipeline.transform(data)\n",
    "# print(\"Saving data to csv...\")\n",
    "# # data = pipeline.load(data)\n",
    "# print(\"Finished saving processed data to csv.\")\n",
    "# print(data.head())"
   ]
  },
  {
   "cell_type": "code",
   "execution_count": 7,
   "id": "09711467-ac81-4aa9-81b5-b3448c745bd7",
   "metadata": {},
   "outputs": [],
   "source": [
    "import pandas as pd\n",
    "df = pd.read_csv('transactions.csv')"
   ]
  },
  {
   "cell_type": "code",
   "execution_count": 19,
   "id": "7bd52897-89da-4366-935b-50a80258aac5",
   "metadata": {},
   "outputs": [
    {
     "data": {
      "text/plain": [
       "Unnamed: 0                 int64\n",
       "trans_date_trans_time     object\n",
       "cc_num                     int64\n",
       "merchant                  object\n",
       "category                  object\n",
       "amt                      float64\n",
       "first                     object\n",
       "last                      object\n",
       "sex                       object\n",
       "street                    object\n",
       "city                      object\n",
       "state                     object\n",
       "zip                        int64\n",
       "lat                      float64\n",
       "long                     float64\n",
       "city_pop                   int64\n",
       "job                       object\n",
       "dob                       object\n",
       "trans_num                 object\n",
       "unix_time                  int64\n",
       "merch_lat                float64\n",
       "merch_long               float64\n",
       "is_fraud                   int64\n",
       "dtype: object"
      ]
     },
     "execution_count": 19,
     "metadata": {},
     "output_type": "execute_result"
    }
   ],
   "source": [
    "df.dtypes"
   ]
  },
  {
   "cell_type": "code",
   "execution_count": 3,
   "id": "404cd805-0211-4103-9722-8f849c50a0ee",
   "metadata": {},
   "outputs": [
    {
     "name": "stdout",
     "output_type": "stream",
     "text": [
      "2.5_std\n",
      "1    1801961\n",
      "0      50433\n",
      "Name: count, dtype: int64\n",
      "is_fraud\n",
      "0    42349\n",
      "1     8084\n",
      "Name: count, dtype: int64\n"
     ]
    }
   ],
   "source": [
    "print(data[\"2.5_std\"].value_counts())\n",
    "print(data[data[\"2.5_std\"] == 0][\"is_fraud\"].value_counts())"
   ]
  },
  {
   "cell_type": "code",
   "execution_count": 5,
   "id": "b4495e25-9dc7-4425-8231-43e87dfe5498",
   "metadata": {},
   "outputs": [
    {
     "data": {
      "text/plain": [
       "0    1842743\n",
       "1       9651\n",
       "Name: is_fraud, dtype: int64"
      ]
     },
     "execution_count": 5,
     "metadata": {},
     "output_type": "execute_result"
    }
   ],
   "source": [
    "data[\"is_fraud\"].value_counts()"
   ]
  },
  {
   "cell_type": "code",
   "execution_count": 6,
   "id": "d8861cf0-aec6-41ce-97d7-3fcecb82a4a7",
   "metadata": {},
   "outputs": [
    {
     "data": {
      "text/plain": [
       "([<matplotlib.patches.Wedge at 0x1b0f144f0>,\n",
       "  <matplotlib.patches.Wedge at 0x1b0f149a0>],\n",
       " [Text(-1.0959787542983084, 0.09397111325683262, 'Probably not fraud'),\n",
       "  Text(1.09597875374842, -0.09397111967014148, 'Might be fraud')],\n",
       " [Text(-0.5978065932536227, 0.05125697086736324, '97.277%'),\n",
       "  Text(0.5978065929536837, -0.051256974365531706, '2.723%')])"
      ]
     },
     "execution_count": 6,
     "metadata": {},
     "output_type": "execute_result"
    },
    {
     "data": {
      "image/png": "[encoded data removed]",
      "text/plain": [
       "<Figure size 640x480 with 1 Axes>"
      ]
     },
     "metadata": {},
     "output_type": "display_data"
    }
   ],
   "source": [
    "import matplotlib.pyplot as plt\n",
    "plt.pie(data[\"2.5_std\"].value_counts(), labels=['Probably not fraud', 'Might be fraud'], autopct='%1.3f%%')"
   ]
  },
  {
   "cell_type": "code",
   "execution_count": 7,
   "id": "cbe14e69-9d8c-43e3-8d53-dff4d68b302b",
   "metadata": {},
   "outputs": [
    {
     "name": "stdout",
     "output_type": "stream",
     "text": [
      "0    1842743\n",
      "1       9651\n",
      "Name: is_fraud, dtype: int64\n"
     ]
    }
   ],
   "source": [
    "print(data[data[\"likely_fraudulent_time\"] == True][\"is_fraud\"].value_counts())"
   ]
  },
  {
   "cell_type": "code",
   "execution_count": 30,
   "id": "0ff5da3d-b1cd-4200-b2ba-380f159026be",
   "metadata": {},
   "outputs": [
    {
     "name": "stdout",
     "output_type": "stream",
     "text": [
      "Predictions: Not Fraud\n"
     ]
    }
   ],
   "source": [
    "import requests\n",
    "import json\n",
    "from urllib.parse import urlencode\n",
    "with open('analysis/test_input_fraudulent_row.json', 'r') as file:\n",
    "    input_data = json.load(file)\n",
    "# print(input_data)\n",
    "url = 'http://localhost:8786/predict'\n",
    "response = requests.post(url, json=input_data)\n",
    "predictions = response.json()\n",
    "print(\"Predictions:\", predictions)"
   ]
  },
  {
   "cell_type": "code",
   "execution_count": null,
   "id": "34ccdfd4-4c26-402b-8fbd-4a1e72807c11",
   "metadata": {},
   "outputs": [],
   "source": []
  }
 ],
 "metadata": {
  "kernelspec": {
   "display_name": "Python 3 (ipykernel)",
   "language": "python",
   "name": "python3"
  },
  "language_info": {
   "codemirror_mode": {
    "name": "ipython",
    "version": 3
   },
   "file_extension": ".py",
   "mimetype": "text/x-python",
   "name": "python",
   "nbconvert_exporter": "python",
   "pygments_lexer": "ipython3",
   "version": "3.11.4"
  }
 },
 "nbformat": 4,
 "nbformat_minor": 5
}
