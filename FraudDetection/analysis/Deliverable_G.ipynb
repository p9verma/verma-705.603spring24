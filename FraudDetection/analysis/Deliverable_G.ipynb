{
 "cells": [
  {
   "cell_type": "code",
   "execution_count": null,
   "id": "0c811803-1c57-43cd-a6c0-1ee10583b1b8",
   "metadata": {
    "scrolled": true
   },
   "outputs": [],
   "source": [
    "# %pip install flask"
   ]
  },
  {
   "cell_type": "code",
   "execution_count": null,
   "id": "fa6299e1-a511-49ff-a16e-12004f0feeb4",
   "metadata": {
    "scrolled": true
   },
   "outputs": [
    {
     "name": "stdout",
     "output_type": "stream",
     "text": [
      "starting server...\n",
      " * Serving Flask app 'ml_microservice'\n",
      " * Debug mode: off\n",
      "INFO:werkzeug:\u001b[31m\u001b[1mWARNING: This is a development server. Do not use it in a production deployment. Use a production WSGI server instead.\u001b[0m\n",
      " * Running on all addresses (0.0.0.0)\n",
      " * Running on http://127.0.0.1:8786\n",
      " * Running on http://192.168.1.186:8786\n",
      "INFO:werkzeug:\u001b[33mPress CTRL+C to quit\u001b[0m\n",
      "DEBUG:root:Input TESTESTESTESJSON data: {'Unnamed: 0': 2449, 'trans_date_trans_time': '2019-01-02 01:06:37', 'cc_num': 4613314721966, 'merchant': 'fraud_Rutherford-Mertz', 'category': 'grocery_pos', 'amt': 281.06, 'first': 'Jason', 'last': 'Murphy', 'sex': 'M', 'street': '542 Steve Curve Suite 011', 'city': 'Collettsville', 'state': 'NC', 'zip': 28611, 'lat': 35.9946, 'long': -81.7266, 'city_pop': 885, 'job': 'Soil scientist', 'dob': '1988-09-15', 'trans_num': 'e8a81877ae9a0a7f883e15cb39dc4022', 'unix_time': 1325466397, 'merch_lat': 36.430124, 'merch_long': -81.17948299999999, 'is_fraud': 1}\n",
      "Index(['Unnamed: 0', 'trans_date_trans_time', 'cc_num', 'merchant', 'category',\n",
      "       'amt', 'first', 'last', 'sex', 'street', 'city', 'state', 'zip', 'lat',\n",
      "       'long', 'city_pop', 'job', 'dob', 'trans_num', 'unix_time', 'merch_lat',\n",
      "       'merch_long', 'is_fraud'],\n",
      "      dtype='object')\n",
      "INFO:werkzeug:127.0.0.1 - - [30/Apr/2024 01:14:19] \"POST /predict HTTP/1.1\" 200 -\n",
      "DEBUG:root:Input TESTESTESTESJSON data: {'Unnamed: 0': 2449, 'trans_date_trans_time': '2019-01-02 01:06:37', 'cc_num': 4613314721966, 'merchant': 'fraud_Rutherford-Mertz', 'category': 'grocery_pos', 'amt': 281.06, 'first': 'Jason', 'last': 'Murphy', 'sex': 'M', 'street': '542 Steve Curve Suite 011', 'city': 'Collettsville', 'state': 'NC', 'zip': 28611, 'lat': 35.9946, 'long': -81.7266, 'city_pop': 885, 'job': 'Soil scientist', 'dob': '1988-09-15', 'trans_num': 'e8a81877ae9a0a7f883e15cb39dc4022', 'unix_time': 1325466397, 'merch_lat': 36.430124, 'merch_long': -81.17948299999999, 'is_fraud': 1}\n",
      "Index(['Unnamed: 0', 'trans_date_trans_time', 'cc_num', 'merchant', 'category',\n",
      "       'amt', 'first', 'last', 'sex', 'street', 'city', 'state', 'zip', 'lat',\n",
      "       'long', 'city_pop', 'job', 'dob', 'trans_num', 'unix_time', 'merch_lat',\n",
      "       'merch_long', 'is_fraud'],\n",
      "      dtype='object')\n",
      "INFO:werkzeug:127.0.0.1 - - [30/Apr/2024 01:14:39] \"POST /predict HTTP/1.1\" 200 -\n",
      "DEBUG:root:Input TESTESTESTESJSON data: {'Unnamed: 0': 2449, 'trans_date_trans_time': '2019-01-02 01:06:37', 'cc_num': 4613314721966, 'merchant': 'fraud_Rutherford-Mertz', 'category': 'grocery_pos', 'amt': 281.06, 'first': 'Jason', 'last': 'Murphy', 'sex': 'M', 'street': '542 Steve Curve Suite 011', 'city': 'Collettsville', 'state': 'NC', 'zip': 28611, 'lat': 35.9946, 'long': -81.7266, 'city_pop': 885, 'job': 'Soil scientist', 'dob': '1988-09-15', 'trans_num': 'e8a81877ae9a0a7f883e15cb39dc4022', 'unix_time': 1325466397, 'merch_lat': 36.430124, 'merch_long': -81.17948299999999, 'is_fraud': 1}\n",
      "Index(['Unnamed: 0', 'trans_date_trans_time', 'cc_num', 'merchant', 'category',\n",
      "       'amt', 'first', 'last', 'sex', 'street', 'city', 'state', 'zip', 'lat',\n",
      "       'long', 'city_pop', 'job', 'dob', 'trans_num', 'unix_time', 'merch_lat',\n",
      "       'merch_long', 'is_fraud'],\n",
      "      dtype='object')\n",
      "INFO:werkzeug:127.0.0.1 - - [30/Apr/2024 01:19:07] \"POST /predict HTTP/1.1\" 200 -\n",
      "DEBUG:root:Input TESTESTESTESJSON data: {'Unnamed: 0': 4, 'trans_date_trans_time': '2019-01-01 00:03:06', 'cc_num': 375534208663984, 'merchant': 'fraud_Keeling-Crist', 'category': 'misc_pos', 'amt': 41.96, 'first': 'Tyler', 'last': 'Garcia', 'sex': 'M', 'street': '408 Bradley Rest', 'city': 'Doe Hill', 'state': 'VA', 'zip': 24433, 'lat': 38.4207, 'long': -79.4629, 'city_pop': 99, 'job': 'Dance movement psychotherapist', 'dob': '1986-03-28', 'trans_num': 'a41d7549acf90789359a9aa5346dcb46', 'unix_time': 1325376186, 'merch_lat': 38.674999, 'merch_long': -78.632459, 'is_fraud': 0}\n",
      "Index(['Unnamed: 0', 'trans_date_trans_time', 'cc_num', 'merchant', 'category',\n",
      "       'amt', 'first', 'last', 'sex', 'street', 'city', 'state', 'zip', 'lat',\n",
      "       'long', 'city_pop', 'job', 'dob', 'trans_num', 'unix_time', 'merch_lat',\n",
      "       'merch_long', 'is_fraud'],\n",
      "      dtype='object')\n",
      "INFO:werkzeug:127.0.0.1 - - [30/Apr/2024 01:19:28] \"POST /predict HTTP/1.1\" 200 -\n",
      "DEBUG:root:Input TESTESTESTESJSON data: {'Unnamed: 0': 2472, 'trans_date_trans_time': '2019-01-02 01:47:29', 'cc_num': 340187018810220, 'merchant': 'fraud_Jenkins, Hauck and Friesen', 'category': 'gas_transport', 'amt': 11.52, 'first': 'Misty', 'last': 'Hart', 'sex': 'F', 'street': '27954 Hall Mill Suite 575', 'city': 'San Antonio', 'state': 'TX', 'zip': 78208, 'lat': 29.44, 'long': -98.459, 'city_pop': 1595797, 'job': 'Horticultural consultant', 'dob': '1960-10-28', 'trans_num': 'bc7d41c41103877b03232f03f1f8d3f5', 'unix_time': 1325468849, 'merch_lat': 29.819364, 'merch_long': -99.142791, 'is_fraud': 1}\n",
      "Index(['Unnamed: 0', 'trans_date_trans_time', 'cc_num', 'merchant', 'category',\n",
      "       'amt', 'first', 'last', 'sex', 'street', 'city', 'state', 'zip', 'lat',\n",
      "       'long', 'city_pop', 'job', 'dob', 'trans_num', 'unix_time', 'merch_lat',\n",
      "       'merch_long', 'is_fraud'],\n",
      "      dtype='object')\n",
      "INFO:werkzeug:127.0.0.1 - - [30/Apr/2024 01:20:26] \"POST /predict HTTP/1.1\" 200 -\n",
      "DEBUG:root:Input TESTESTESTESJSON data: {'Unnamed: 0': 2523, 'trans_date_trans_time': '2019-01-02 03:05:23', 'cc_num': 340187018810220, 'merchant': 'fraud_Goodwin-Nitzsche', 'category': 'grocery_pos', 'amt': 276.31, 'first': 'Misty', 'last': 'Hart', 'sex': 'F', 'street': '27954 Hall Mill Suite 575', 'city': 'San Antonio', 'state': 'TX', 'zip': 78208, 'lat': 29.44, 'long': -98.459, 'city_pop': 1595797, 'job': 'Horticultural consultant', 'dob': '1960-10-28', 'trans_num': 'b98f12f4168391b2203238813df5aa8c', 'unix_time': 1325473523, 'merch_lat': 29.273085, 'merch_long': -98.83636, 'is_fraud': 1}\n",
      "Index(['Unnamed: 0', 'trans_date_trans_time', 'cc_num', 'merchant', 'category',\n",
      "       'amt', 'first', 'last', 'sex', 'street', 'city', 'state', 'zip', 'lat',\n",
      "       'long', 'city_pop', 'job', 'dob', 'trans_num', 'unix_time', 'merch_lat',\n",
      "       'merch_long', 'is_fraud'],\n",
      "      dtype='object')\n",
      "INFO:werkzeug:127.0.0.1 - - [30/Apr/2024 01:25:39] \"POST /predict HTTP/1.1\" 200 -\n",
      "DEBUG:root:Input TESTESTESTESJSON data: {'Unnamed: 0': 1813872, 'trans_date_trans_time': '2020-12-22 22:05:48', 'cc_num': 2242176657877538, 'merchant': 'fraud_Willms, Kris and Bergnaum', 'category': 'shopping_pos', 'amt': 1041.51, 'first': 'Travis', 'last': 'Daniel', 'sex': 'M', 'street': '1327 Rose Causeway Apt. 610', 'city': 'Senatobia', 'state': 'MS', 'zip': 38668, 'lat': 34.6323, 'long': -89.8855, 'city_pop': 14462, 'job': 'Database administrator', 'dob': '1959-03-03', 'trans_num': '35b0297dd026d2e9a75d024a5dec7955', 'unix_time': 1387749948, 'merch_lat': 34.573471000000005, 'merch_long': -89.911011, 'is_fraud': 1}\n",
      "Index(['Unnamed: 0', 'trans_date_trans_time', 'cc_num', 'merchant', 'category',\n",
      "       'amt', 'first', 'last', 'sex', 'street', 'city', 'state', 'zip', 'lat',\n",
      "       'long', 'city_pop', 'job', 'dob', 'trans_num', 'unix_time', 'merch_lat',\n",
      "       'merch_long', 'is_fraud'],\n",
      "      dtype='object')\n",
      "INFO:werkzeug:127.0.0.1 - - [30/Apr/2024 01:26:35] \"POST /predict HTTP/1.1\" 200 -\n"
     ]
    }
   ],
   "source": [
    "# %pip install scikit-learn==1.3.2\n",
    "# %pip install pkg_resources\n",
    "# %pip install --upgrade imbalanced-learn\n",
    "!python ml_microservice.py"
   ]
  }
 ],
 "metadata": {
  "kernelspec": {
   "display_name": "Python (en605645)",
   "language": "python",
   "name": "en605645"
  },
  "language_info": {
   "codemirror_mode": {
    "name": "ipython",
    "version": 3
   },
   "file_extension": ".py",
   "mimetype": "text/x-python",
   "name": "python",
   "nbconvert_exporter": "python",
   "pygments_lexer": "ipython3",
   "version": "3.10.8"
  }
 },
 "nbformat": 4,
 "nbformat_minor": 5
}
